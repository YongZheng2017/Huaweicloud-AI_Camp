{
 "cells": [
  {
   "cell_type": "markdown",
   "metadata": {},
   "source": [
    "## **常用框架工具-Numpy作业5**"
   ]
  },
  {
   "cell_type": "markdown",
   "metadata": {},
   "source": [
    "<font color=red>本课程未完全覆盖 Numpy 中的全部操作，欢迎你将更全面的 Numpy 学习笔记分享到[ AI Gallery Notebook](https://marketplace.huaweicloud.com/markets/aihub/notebook/list/) 版块获得[成长值](https://marketplace.huaweicloud.com/markets/aihub/article/detail/?content_id=9b8d7e7a-a150-449e-ac17-2dcf76d8b492)，分享方法请查看[此文档](https://marketplace.huaweicloud.com/markets/aihub/article/detail/?content_id=8afec58a-b797-4bf9-acca-76ed512a3acb)。</font>"
   ]
  },
  {
   "cell_type": "markdown",
   "metadata": {},
   "source": [
    "### **题目描述**\n",
    "### 创建一个 10x10 的随机数组并找到它的最大值、最小值、平均值。\n",
    "\n",
    "提示：max, min, mean"
   ]
  },
  {
   "cell_type": "markdown",
   "metadata": {},
   "source": [
    "### **代码实现**\n",
    "请在下面 cell 中编写代码，实现题目描述的要求。"
   ]
  },
  {
   "cell_type": "code",
   "execution_count": 3,
   "metadata": {},
   "outputs": [
    {
     "name": "stdout",
     "output_type": "stream",
     "text": [
      "最大值是： 0.9743438492489985\n",
      "最小值是： 6.091801592833512e-05\n",
      "平均值是： 0.4600737839578969\n"
     ]
    }
   ],
   "source": [
    "import numpy as np\n",
    "\n",
    "\"\"\"\n",
    "请在此处实现代码\n",
    "\"\"\"\n",
    "arr = np.random.random((10,10))\n",
    "print(\"最大值是：\", arr.max())\n",
    "print(\"最小值是：\", arr.min())\n",
    "print(\"平均值是：\", arr.mean())\n"
   ]
  },
  {
   "cell_type": "code",
   "execution_count": null,
   "metadata": {},
   "outputs": [],
   "source": []
  }
 ],
 "metadata": {
  "imageInfo": {
   "id": "e1a07296-22a8-4f05-8bc8-e936c8e54090",
   "name": "notebook2.0-mul-kernel-cpu-cp36"
  },
  "kernelspec": {
   "display_name": "Conda-python3",
   "language": "python",
   "name": "conda-python3"
  },
  "language_info": {
   "codemirror_mode": {
    "name": "ipython",
    "version": 3
   },
   "file_extension": ".py",
   "mimetype": "text/x-python",
   "name": "python",
   "nbconvert_exporter": "python",
   "pygments_lexer": "ipython3",
   "version": "3.6.4"
  },
  "shareInfo": {
   "id": "50ce394c-a0ef-4aa4-9fd8-a53e1a5da919",
   "url": "https://authoring-modelarts-cnnorth4.huaweicloud.com/console/lab?share-url-b64=aHR0cHM6Ly9ub3RlYm9va3NoYXJlLm9icy5jbi1ub3J0aC00Lm15aHVhd2VpY2xvdWQuY29tLzBjZmRiYjkyNGI4MGY1OGIxZjg1YzAwNTBjNmEzOGRhL051bXB5X2V4ZXJjaXNlLTUuaXB5bmI%3D"
  }
 },
 "nbformat": 4,
 "nbformat_minor": 4
}
