{
 "cells": [
  {
   "cell_type": "markdown",
   "metadata": {},
   "source": [
    "## **Python编程知识-奖金分配**"
   ]
  },
  {
   "cell_type": "markdown",
   "metadata": {},
   "source": [
    "受限于篇幅原因，本课程未完全覆盖 Python 中的全部语法，欢迎你将更全面的 Python 学习笔记分享到[ AI Gallery Notebook](https://marketplace.huaweicloud.com/markets/aihub/notebook/list/) 版块获得[成长值](https://marketplace.huaweicloud.com/markets/aihub/article/detail/?content_id=9b8d7e7a-a150-449e-ac17-2dcf76d8b492)，分享方法请查看[此文档](https://marketplace.huaweicloud.com/markets/aihub/article/detail/?content_id=8afec58a-b797-4bf9-acca-76ed512a3acb)。"
   ]
  },
  {
   "cell_type": "markdown",
   "metadata": {},
   "source": [
    "### **题目描述**\n",
    "企业发放的奖金根据利润提成。\n",
    "利润(I)低于或等于10 万元时，奖金可提10%；\n",
    "\n",
    "利润高于10 万元，低于20 万元时，低于10 万元的部分按10%提成，高于10 万元的部分，可可提成7.5%；\n",
    "\n",
    "20 万到40 万之间时，高于20 万元的部分，可提成5%；\n",
    "\n",
    "40 万到60 万之间时高于40 万元的部分，可提成3%；\n",
    "\n",
    "60 万到100 万之间时，高于60 万元的部分，可提成1.5%；\n",
    "\n",
    "高于100 万元时，超过100 万元的部分按1%提成，\n",
    "\n",
    "从键盘输入当月利润I，求应发放奖金总数？"
   ]
  },
  {
   "cell_type": "markdown",
   "metadata": {},
   "source": [
    "### **代码实现**\n",
    "请在下面 cell 中编写代码，实现题目描述的要求。"
   ]
  },
  {
   "cell_type": "code",
   "execution_count": 5,
   "metadata": {},
   "outputs": [
    {
     "name": "stdout",
     "output_type": "stream",
     "text": [
      "利润为负数时应报错： 利润不能低于0.\n",
      "利润0元的奖金是： 0.0\n",
      "利润10元的奖金是： 1.0\n",
      "利润100001元的奖金是： 10000.075\n",
      "利润200001元的奖金是： 17500.05\n",
      "利润400001元的奖金是： 27500.03\n",
      "利润600001元的奖金是： 33500.015\n",
      "利润1000001元的奖金是： 39500.01\n"
     ]
    }
   ],
   "source": [
    "# 先算出基准\n",
    "base10 = 100000 * 0.1\n",
    "base20 = base10 + 100000 * 0.075\n",
    "base40 = base20 + 200000 * 0.05\n",
    "base60 = base40 + 200000 * 0.03\n",
    "base100 = base60 + 400000 * 0.015\n",
    "\n",
    "\n",
    "def bonus(profit):\n",
    "    \"\"\" 计算奖金 \"\"\"\n",
    "    if profit < 0:\n",
    "        return \"利润不能低于0.\"\n",
    "    elif 0 <= profit <= 100000:\n",
    "        return profit*0.1\n",
    "    elif 100000< profit <= 200000:\n",
    "        return base10+(profit-100000)*0.075\n",
    "    elif 200000 < profit <= 400000:\n",
    "        return base20 + (profit-200000)*0.05\n",
    "    elif 400000 < profit <= 600000:\n",
    "        return base40 + (profit - 400000) * 0.03\n",
    "    elif 600000 < profit <= 1000000:\n",
    "        return base60 + (profit - 600000) * 0.015\n",
    "    elif profit > 1000000:\n",
    "        return base100 + (profit - 1000000) * 0.01\n",
    "\n",
    "\n",
    "if __name__ == '__main__':\n",
    "    print(\"利润为负数时应报错：\", bonus(-1))\n",
    "    print(\"利润0元的奖金是：\", bonus(0))\n",
    "    print(\"利润10元的奖金是：\", bonus(10))\n",
    "    print(\"利润100001元的奖金是：\", bonus(100001))\n",
    "    print(\"利润200001元的奖金是：\", bonus(200001))\n",
    "    print(\"利润400001元的奖金是：\", bonus(400001))\n",
    "    print(\"利润600001元的奖金是：\", bonus(600001))\n",
    "    print(\"利润1000001元的奖金是：\", bonus(1000001))\n"
   ]
  },
  {
   "cell_type": "code",
   "execution_count": null,
   "metadata": {},
   "outputs": [],
   "source": []
  }
 ],
 "metadata": {
  "imageInfo": {
   "id": "e1a07296-22a8-4f05-8bc8-e936c8e54090",
   "name": "notebook2.0-mul-kernel-cpu-cp36"
  },
  "kernelspec": {
   "display_name": "Conda-python3",
   "language": "python",
   "name": "conda-python3"
  },
  "language_info": {
   "codemirror_mode": {
    "name": "ipython",
    "version": 3
   },
   "file_extension": ".py",
   "mimetype": "text/x-python",
   "name": "python",
   "nbconvert_exporter": "python",
   "pygments_lexer": "ipython3",
   "version": "3.6.4"
  },
  "shareInfo": {
   "id": "5c5a8f70-ba06-4cc1-8b3d-eb64b694b138",
   "url": "https://authoring-modelarts-cnnorth4.huaweicloud.com/console/lab?share-url-b64=aHR0cHM6Ly9ub3RlYm9va3NoYXJlLm9icy5jbi1ub3J0aC00Lm15aHVhd2VpY2xvdWQuY29tLzBjZmRiYjkyNGI4MGY1OGIxZjg1YzAwNTBjNmEzOGRhL3B5dGhvbl9leGVyY2lzZTkuaXB5bmI%3D"
  }
 },
 "nbformat": 4,
 "nbformat_minor": 4
}
