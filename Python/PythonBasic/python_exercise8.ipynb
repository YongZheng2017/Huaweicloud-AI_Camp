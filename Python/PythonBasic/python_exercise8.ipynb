{
 "cells": [
  {
   "cell_type": "markdown",
   "metadata": {},
   "source": [
    "## **Python编程知识-罗马数字转换器**"
   ]
  },
  {
   "cell_type": "markdown",
   "metadata": {},
   "source": [
    "受限于篇幅原因，本课程未完全覆盖 Python 中的全部语法，欢迎你将更全面的 Python 学习笔记分享到[ AI Gallery Notebook](https://marketplace.huaweicloud.com/markets/aihub/notebook/list/) 版块获得[成长值](https://marketplace.huaweicloud.com/markets/aihub/article/detail/?content_id=9b8d7e7a-a150-449e-ac17-2dcf76d8b492)，分享方法请查看[此文档](https://marketplace.huaweicloud.com/markets/aihub/article/detail/?content_id=8afec58a-b797-4bf9-acca-76ed512a3acb)。"
   ]
  },
  {
   "cell_type": "markdown",
   "metadata": {},
   "source": [
    "### **题目描述**\n",
    "\n",
    "把传入的数字转变为罗马数字。（0~9）\n",
    "\n",
    "转换后的罗马数字字母必须都是大写。"
   ]
  },
  {
   "cell_type": "markdown",
   "metadata": {},
   "source": [
    "### **代码实现**\n",
    "请在下面 cell 中编写代码，实现题目描述的要求。"
   ]
  },
  {
   "cell_type": "code",
   "execution_count": 1,
   "metadata": {},
   "outputs": [
    {
     "name": "stdin",
     "output_type": "stream",
     "text": [
      "请输入一个0~9的整数： 9\n"
     ]
    },
    {
     "name": "stdout",
     "output_type": "stream",
     "text": [
      "IX\n"
     ]
    }
   ],
   "source": [
    "# 定义罗马数字\n",
    "rome_numbers = {\"0\": \"\", \"1\": \"I\", \"2\": \"II\", \"3\": \"III\",\n",
    "                \"4\": \"IV\", \"5\": \"V\", \"6\": \"VI\", \"7\": \"VII\",\n",
    "                \"8\": \"VIII\", \"9\": \"IX\"}\n",
    "\n",
    "\n",
    "if __name__ == '__main__':\n",
    "    input_number = input(\"请输入一个0~9的整数：\")\n",
    "    try:\n",
    "        int_number = int(input_number)\n",
    "    except ValueError:\n",
    "        print(\"输入的数据类型错误，请输入一个0~9的整数。\")\n",
    "    else:\n",
    "        if int_number < 0 or int_number > 9:\n",
    "            # 输入的数据超过0~9的范围\n",
    "            print(\"请输入一个0~9的整数.\")\n",
    "        else:\n",
    "            print(rome_numbers[input_number])"
   ]
  },
  {
   "cell_type": "code",
   "execution_count": null,
   "metadata": {},
   "outputs": [],
   "source": []
  }
 ],
 "metadata": {
  "kernelspec": {
   "display_name": "Conda-python3",
   "language": "python",
   "name": "conda-python3"
  },
  "language_info": {
   "codemirror_mode": {
    "name": "ipython",
    "version": 3
   },
   "file_extension": ".py",
   "mimetype": "text/x-python",
   "name": "python",
   "nbconvert_exporter": "python",
   "pygments_lexer": "ipython3",
   "version": "3.6.4"
  }
 },
 "nbformat": 4,
 "nbformat_minor": 4
}
