{
 "cells": [
  {
   "cell_type": "markdown",
   "metadata": {},
   "source": [
    "## **Python编程知识-数组作业**"
   ]
  },
  {
   "cell_type": "markdown",
   "metadata": {},
   "source": [
    "### **题目描述**\n",
    "输入一个数组和一个数字，在数组中查找两个数，使得它们的和正好是输入的那个数字。\n",
    "\n",
    "如果有多对数字的和等于输入的数字，输出任意一对即可。\n",
    "\n",
    "例如：输入数组1 2 4 7 11 15和数字15。\n",
    "\n",
    "由于4+11=15，因此输出4和11。"
   ]
  },
  {
   "cell_type": "markdown",
   "metadata": {},
   "source": [
    "### **代码实现**\n",
    "请在下面 cell 中编写代码，实现题目描述的要求。"
   ]
  },
  {
   "cell_type": "code",
   "execution_count": 2,
   "metadata": {},
   "outputs": [
    {
     "name": "stdin",
     "output_type": "stream",
     "text": [
      " 1 2 4 7 11 15\n",
      " 15\n"
     ]
    },
    {
     "name": "stdout",
     "output_type": "stream",
     "text": [
      "4 11\n"
     ]
    }
   ],
   "source": [
    "l = input()  # 输入字符串，以空格为间隔，请自行实现将字符串转换为数组的代码\n",
    "\n",
    "n = input()  # 输入数字\n",
    "\n",
    "def func(input_numbers,sum_number):\n",
    "    \"\"\" 在输入的一串整数中，找到和为sum_number的2个数字 \"\"\"\n",
    "    # 将输入的字符串处理为列表\n",
    "    input_numbers = input_numbers.split(\" \")\n",
    "    try:\n",
    "        # 将l字符串中的值都转换为int型\n",
    "        for index in range(len(input_numbers)):\n",
    "            input_numbers[index] = int(input_numbers[index])\n",
    "        # 将n转换为整数类型\n",
    "        sum_number = int(sum_number)\n",
    "    except ValueError:\n",
    "            # 输入的数字格式错误\n",
    "            print(\"输入错误，请依照格式输入整数。\")\n",
    "    else:\n",
    "        for item1 in input_numbers:\n",
    "            # 在去掉第一个加法因子的剩余列表中查找第二个加法因子\n",
    "            left_numbers = input_numbers.copy()\n",
    "            left_numbers.remove(item1)\n",
    "            for item2 in left_numbers:\n",
    "                if item1+item2 == sum_number:\n",
    "                    a,b = item1, item2\n",
    "                    print(a, b)\n",
    "                    return\n",
    "        print(\"未找到两数之和等于{:d}的组合。\".format(sum_number))\n",
    "\n",
    "\n",
    "func(l,n)\n"
   ]
  },
  {
   "cell_type": "code",
   "execution_count": null,
   "metadata": {},
   "outputs": [],
   "source": []
  }
 ],
 "metadata": {
  "imageInfo": {
   "id": "e1a07296-22a8-4f05-8bc8-e936c8e54090",
   "name": "notebook2.0-mul-kernel-cpu-cp36"
  },
  "kernelspec": {
   "display_name": "Conda-python3",
   "language": "python",
   "name": "conda-python3"
  },
  "language_info": {
   "codemirror_mode": {
    "name": "ipython",
    "version": 3
   },
   "file_extension": ".py",
   "mimetype": "text/x-python",
   "name": "python",
   "nbconvert_exporter": "python",
   "pygments_lexer": "ipython3",
   "version": "3.6.4"
  },
  "shareInfo": {
   "id": "e66b66b4-78cc-43fb-9ccf-5ca4660a5c98",
   "url": "https://authoring-modelarts-cnnorth4.huaweicloud.com/console/lab?share-url-b64=aHR0cHM6Ly9ub3RlYm9va3NoYXJlLm9icy5jbi1ub3J0aC00Lm15aHVhd2VpY2xvdWQuY29tLzBjZmRiYjkyNGI4MGY1OGIxZjg1YzAwNTBjNmEzOGRhL3B5dGhvbl9leGVyY2lzZTIuaXB5bmI%3D"
  }
 },
 "nbformat": 4,
 "nbformat_minor": 4
}
