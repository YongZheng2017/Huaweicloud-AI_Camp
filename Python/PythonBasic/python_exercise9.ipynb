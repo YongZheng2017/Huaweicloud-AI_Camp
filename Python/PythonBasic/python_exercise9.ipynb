{
 "cells": [
  {
   "cell_type": "markdown",
   "metadata": {},
   "source": [
    "## **Python编程知识-凯撒密码**"
   ]
  },
  {
   "cell_type": "markdown",
   "metadata": {},
   "source": [
    "受限于篇幅原因，本课程未完全覆盖 Python 中的全部语法，欢迎你将更全面的 Python 学习笔记分享到[ AI Gallery Notebook](https://marketplace.huaweicloud.com/markets/aihub/notebook/list/) 版块获得[成长值](https://marketplace.huaweicloud.com/markets/aihub/article/detail/?content_id=9b8d7e7a-a150-449e-ac17-2dcf76d8b492)，分享方法请查看[此文档](https://marketplace.huaweicloud.com/markets/aihub/article/detail/?content_id=8afec58a-b797-4bf9-acca-76ed512a3acb)。"
   ]
  },
  {
   "cell_type": "markdown",
   "metadata": {},
   "source": [
    "### **题目描述**\n",
    "世界上最简单、最著名的加密方法是凯撒密码，也叫移位密码。在移位密码中，明文中的字母通过按照一个固定数目进行偏移后被替换成新的字母。\n",
    "\n",
    "ROT13 是一个被广泛使用的编码技术，明文中的所有字母都被移动 13 位。因此，'A' ↔ 'N', 'B' ↔ 'O' 等等。\n",
    "\n",
    "请编写一个函数，用于解码一个被 ROT13 编码的字符串，然后返回解码后的结果。\n",
    "\n",
    "所有解码后的字母都必须为字母大写。请不要解码非字母的字符（例如，空格、标点符号），但你需要在结果中保留它们。\n",
    "\n",
    "    "
   ]
  },
  {
   "cell_type": "markdown",
   "metadata": {},
   "source": [
    "### **代码实现**\n",
    "请在下面 cell 中编写代码，实现题目描述的要求。"
   ]
  },
  {
   "cell_type": "code",
   "execution_count": 1,
   "metadata": {},
   "outputs": [
    {
     "name": "stdin",
     "output_type": "stream",
     "text": [
      "请输入一串待加密的字符串： ABCDEFGHIJKLMNOPQRSTUVWXYZ123./,中文\n"
     ]
    },
    {
     "name": "stdout",
     "output_type": "stream",
     "text": [
      "加密后的字符串为： NOPQRSTUVWXYZABCDEFGHIJKLM123./,中文\n",
      "解密后的字符串为： ABCDEFGHIJKLMNOPQRSTUVWXYZ123./,中文\n"
     ]
    }
   ],
   "source": [
    "\n",
    "def caesar_encode(raw_string):\n",
    "    \"\"\" 加密：明文中的所有字母都被移动 13 位 \"\"\"\n",
    "    encoded_chars = []\n",
    "    for character in raw_string:\n",
    "        # 先统一转换为大写\n",
    "        character = character.upper()\n",
    "        character_ascii = ord(character)\n",
    "        if 65 <= character_ascii <= 90:\n",
    "            # 使后移13位后超过字母范围的字符仍然在字母的ascii值范围内\n",
    "            if character_ascii+13 > 90:\n",
    "                character_ascii = character_ascii-26\n",
    "            # 将明文中的所有字母后移13位\n",
    "            encoded_chars.append(chr(character_ascii+13))\n",
    "        else:\n",
    "            # 如果字符不是字母，保持为原样\n",
    "            encoded_chars.append(character)\n",
    "    # 将解密后的字符组合成字符串并转换为大写\n",
    "    encoded_string = ''.join(encoded_chars)\n",
    "    return encoded_string\n",
    "\n",
    "\n",
    "def caesar_decode(encoded_string):\n",
    "    \"\"\" 解密：密文中的所有字母都前移13位 \"\"\"\n",
    "    decoded_chars = []\n",
    "    for character in encoded_string:\n",
    "        # 先统一转换为大写\n",
    "        character = character.upper()\n",
    "        character_ascii = ord(character)\n",
    "        if 65 <= character_ascii <= 90:\n",
    "            # 使前移13位后超过字母范围的字符仍然在字母的ascii值范围内\n",
    "            if character_ascii - 13 < 65:\n",
    "                character_ascii = character_ascii + 26\n",
    "            # 将明文中的所有字母后移13位\n",
    "            decoded_chars.append(chr(character_ascii - 13))\n",
    "        else:\n",
    "            # 如果字符不是字母，保持为原样\n",
    "            decoded_chars.append(character)\n",
    "    # 将解密后的字符组合成字符串并转换为大写\n",
    "    decoded_string = ''.join(decoded_chars)\n",
    "    return decoded_string\n",
    "\n",
    "\n",
    "if __name__ == '__main__':\n",
    "    raw_string = input(\"请输入一串待加密的字符串：\")\n",
    "    encoded_string = caesar_encode(raw_string)\n",
    "    print(\"加密后的字符串为：\", encoded_string)\n",
    "    decoded_string = caesar_decode(encoded_string)\n",
    "    print(\"解密后的字符串为：\", decoded_string)\n"
   ]
  },
  {
   "cell_type": "code",
   "execution_count": null,
   "metadata": {},
   "outputs": [],
   "source": []
  }
 ],
 "metadata": {
  "kernelspec": {
   "display_name": "Conda-python3",
   "language": "python",
   "name": "conda-python3"
  },
  "language_info": {
   "codemirror_mode": {
    "name": "ipython",
    "version": 3
   },
   "file_extension": ".py",
   "mimetype": "text/x-python",
   "name": "python",
   "nbconvert_exporter": "python",
   "pygments_lexer": "ipython3",
   "version": "3.6.4"
  }
 },
 "nbformat": 4,
 "nbformat_minor": 4
}
