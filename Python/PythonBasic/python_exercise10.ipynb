{
 "cells": [
  {
   "cell_type": "markdown",
   "metadata": {},
   "source": [
    "## **Python编程知识-HZF的魔法棒**"
   ]
  },
  {
   "cell_type": "markdown",
   "metadata": {},
   "source": [
    "受限于篇幅原因，本课程未完全覆盖 Python 中的全部语法，欢迎你将更全面的 Python 学习笔记分享到[ AI Gallery Notebook](https://marketplace.huaweicloud.com/markets/aihub/notebook/list/) 版块获得[成长值](https://marketplace.huaweicloud.com/markets/aihub/article/detail/?content_id=9b8d7e7a-a150-449e-ac17-2dcf76d8b492)，分享方法请查看[此文档](https://marketplace.huaweicloud.com/markets/aihub/article/detail/?content_id=8afec58a-b797-4bf9-acca-76ed512a3acb)。"
   ]
  },
  {
   "cell_type": "markdown",
   "metadata": {},
   "source": [
    "### **题目描述**\n",
    "HZF有一个魔法棒，魔法棒有很多功能，其中最简单的是对字母的改变：可以将大写字母变成小写字母(A->a,B->b,C->c…Z->z)，将小写字母变成大写字母(a->A…z->Z)，魔法对数字不生效。HZF让你告诉他改变之后的字符串是什么样的。\n",
    "\n",
    "\n",
    "输入\n",
    "输入一个字符串(只包含大小写字母和数字)。每个字符串字符数(0 < n <= 1000)。\n",
    "\n",
    "输出\n",
    "输出改变后的字符串。\n",
    "\n",
    "样例\n",
    "输入样例 1 \n",
    "\n",
    "abC02\n",
    "输出样例 1\n",
    "\n",
    "ABc02\n",
    "\n",
    "\n",
    "\n",
    "输入样例 2 \n",
    "\n",
    "aceACE\n",
    "输出样例 2\n",
    "\n",
    "ACEace\n",
    "提示样例 2\n"
   ]
  },
  {
   "cell_type": "markdown",
   "metadata": {},
   "source": [
    "### **代码实现**\n",
    "请在下面 cell 中编写代码，实现题目描述的要求。"
   ]
  },
  {
   "cell_type": "code",
   "execution_count": 3,
   "metadata": {},
   "outputs": [
    {
     "name": "stdin",
     "output_type": "stream",
     "text": [
      "请输入需要变换的字符串，最长1000个字符： abC02\n"
     ]
    },
    {
     "name": "stdout",
     "output_type": "stream",
     "text": [
      "ABc02\n"
     ]
    }
   ],
   "source": [
    "\n",
    "def case_swap(input_string):\n",
    "    \"\"\" 将字母大小写互换 \"\"\"\n",
    "    # 长度检查：限制字符串的长度为 0 < n <= 1000\n",
    "    string_length = len(input_string)\n",
    "    if string_length <= 0 or string_length > 1000:\n",
    "        return \"字符串为空或超过1000的长度限制。\"\n",
    "\n",
    "    # 类型检查：只能包含大小写字母和数字\n",
    "    if not input_string.isalnum():\n",
    "        return \"字符串中只能包含大小写字母和数字\"\n",
    "\n",
    "    swapped_string = \"\"\n",
    "    for character in input_string:\n",
    "        if character.isupper():\n",
    "            # 大写转换为小写\n",
    "            swapped_string += character.lower()\n",
    "        elif character.islower():\n",
    "            # 小写转换为大写\n",
    "            swapped_string += character.upper()\n",
    "        else:\n",
    "            # 非字母保持不变\n",
    "            swapped_string += character\n",
    "    return swapped_string\n",
    "\n",
    "\n",
    "if __name__ == '__main__':\n",
    "    input_string = input(\"请输入需要变换的字符串，最长1000个字符：\")\n",
    "    result = case_swap(input_string)\n",
    "    print(result)\n"
   ]
  },
  {
   "cell_type": "code",
   "execution_count": null,
   "metadata": {},
   "outputs": [],
   "source": []
  }
 ],
 "metadata": {
  "kernelspec": {
   "display_name": "Conda-python3",
   "language": "python",
   "name": "conda-python3"
  },
  "language_info": {
   "codemirror_mode": {
    "name": "ipython",
    "version": 3
   },
   "file_extension": ".py",
   "mimetype": "text/x-python",
   "name": "python",
   "nbconvert_exporter": "python",
   "pygments_lexer": "ipython3",
   "version": "3.6.4"
  }
 },
 "nbformat": 4,
 "nbformat_minor": 4
}
