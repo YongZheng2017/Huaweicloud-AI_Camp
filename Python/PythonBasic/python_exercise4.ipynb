{
 "cells": [
  {
   "cell_type": "markdown",
   "metadata": {},
   "source": [
    "## **Python编程知识-奇妙的三元组**"
   ]
  },
  {
   "cell_type": "markdown",
   "metadata": {},
   "source": [
    "受限于篇幅原因，本课程未完全覆盖 Python 中的全部语法，欢迎你将更全面的 Python 学习笔记分享到[ AI Gallery Notebook](https://marketplace.huaweicloud.com/markets/aihub/notebook/list/) 版块获得[成长值](https://marketplace.huaweicloud.com/markets/aihub/article/detail/?content_id=9b8d7e7a-a150-449e-ac17-2dcf76d8b492)，分享方法请查看[此文档](https://marketplace.huaweicloud.com/markets/aihub/article/detail/?content_id=8afec58a-b797-4bf9-acca-76ed512a3acb)。"
   ]
  },
  {
   "cell_type": "markdown",
   "metadata": {},
   "source": [
    "### **题目描述**\n",
    "给你一个包含 n 个整数的数组 nums，判断 nums 中是否存在三个元素 a，b，c ，使得 a + b + c = 0 ？请你找出所有满足条件且不重复的三元组。\n",
    "*\n",
    "*   注意：答案中不可以包含重复的三元组。\n",
    "*\n",
    "*   示例：\n",
    "*\n",
    "*   给定数组 -1 0 1 2 -1 -4\n",
    "*\n",
    "*   满足要求的三元组集合为：\n",
    "*   -1 0 1\n",
    "*   -1 -1 2"
   ]
  },
  {
   "cell_type": "markdown",
   "metadata": {},
   "source": [
    "### **代码实现**\n",
    "请在下面 cell 中编写代码，实现题目描述的要求。"
   ]
  },
  {
   "cell_type": "code",
   "execution_count": 1,
   "metadata": {},
   "outputs": [
    {
     "name": "stdout",
     "output_type": "stream",
     "text": [
      "{(-1, -1, 2), (-1, 0, 1)}\n"
     ]
    }
   ],
   "source": [
    "def find_triple(nums):\n",
    "    \"\"\" 判断 nums 中是否存在三个元素 a，b，c ，使得 a + b + c = 0 \"\"\"\n",
    "    nums_count = len(nums)\n",
    "    results = []\n",
    "    if nums_count < 3:\n",
    "        return \"不存在符合条件的三元组。\"\n",
    "    else:\n",
    "        # 先对列表排序\n",
    "        nums.sort()\n",
    "        for i in range(nums_count):\n",
    "            # 如果第一个数字大于0，因是已排序的列表，后面的数都会大于0，无法组成等于0的三元组，跳出循环\n",
    "            if nums[i]>0:\n",
    "                break\n",
    "            else:\n",
    "                # 取第二个数\n",
    "                for j in range(i+1, nums_count):\n",
    "                    # 如果前2个数和的负数存在于剩余的元素中，则这3个数刚好组成和为0的三元组\n",
    "                    if -(nums[i]+nums[j]) in nums[j+1:]:\n",
    "                        results.append((nums[i],nums[j], -(nums[i]+nums[j])))\n",
    "    # 对结果去重，因已对nums排序，若存在重复的三元组，其顺序也是一致的，可以通过set去重\n",
    "    results = set(results)\n",
    "    return results\n",
    "\n",
    "\n",
    "if __name__ == '__main__':\n",
    "    nums = [-1, 0, 1, 2, -1, -4]\n",
    "    results = find_triple(nums)\n",
    "    print(results)"
   ]
  },
  {
   "cell_type": "code",
   "execution_count": null,
   "metadata": {},
   "outputs": [],
   "source": []
  }
 ],
 "metadata": {
  "imageInfo": {
   "id": "e1a07296-22a8-4f05-8bc8-e936c8e54090",
   "name": "notebook2.0-mul-kernel-cpu-cp36"
  },
  "kernelspec": {
   "display_name": "Conda-python3",
   "language": "python",
   "name": "conda-python3"
  },
  "language_info": {
   "codemirror_mode": {
    "name": "ipython",
    "version": 3
   },
   "file_extension": ".py",
   "mimetype": "text/x-python",
   "name": "python",
   "nbconvert_exporter": "python",
   "pygments_lexer": "ipython3",
   "version": "3.6.4"
  },
  "shareInfo": {
   "id": "7d33f175-8c3e-4dd6-bd6c-cff7fe377a8c",
   "url": "https://authoring-modelarts-cnnorth4.huaweicloud.com/console/lab?share-url-b64=aHR0cHM6Ly9ub3RlYm9va3NoYXJlLm9icy5jbi1ub3J0aC00Lm15aHVhd2VpY2xvdWQuY29tLzBjZmRiYjkyNGI4MGY1OGIxZjg1YzAwNTBjNmEzOGRhL3B5dGhvbl9leGVyY2lzZTUuaXB5bmI%3D"
  }
 },
 "nbformat": 4,
 "nbformat_minor": 4
}
