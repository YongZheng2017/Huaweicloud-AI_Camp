{
 "cells": [
  {
   "cell_type": "markdown",
   "metadata": {},
   "source": [
    "## **Python编程知识-回文检查器**"
   ]
  },
  {
   "cell_type": "markdown",
   "metadata": {},
   "source": [
    "受限于篇幅原因，本课程未完全覆盖 Python 中的全部语法，欢迎你将更全面的 Python 学习笔记分享到[ AI Gallery Notebook](https://marketplace.huaweicloud.com/markets/aihub/notebook/list/) 版块获得[成长值](https://marketplace.huaweicloud.com/markets/aihub/article/detail/?content_id=9b8d7e7a-a150-449e-ac17-2dcf76d8b492)，分享方法请查看[此文档](https://marketplace.huaweicloud.com/markets/aihub/article/detail/?content_id=8afec58a-b797-4bf9-acca-76ed512a3acb)。"
   ]
  },
  {
   "cell_type": "markdown",
   "metadata": {},
   "source": [
    "### **题目描述**\n",
    "\n",
    "如果给定的一个字符串是回文，那么返回true，否则返回false。\n",
    "\n",
    "palindrome（回文），指在忽略标点符号、大小写和空格的前提下，正着读和反着读一模一样。"
   ]
  },
  {
   "cell_type": "markdown",
   "metadata": {},
   "source": [
    "### **代码实现**\n",
    "请在下面 cell 中编写代码，实现题目描述的要求。"
   ]
  },
  {
   "cell_type": "code",
   "execution_count": 5,
   "metadata": {},
   "outputs": [
    {
     "name": "stdin",
     "output_type": "stream",
     "text": [
      "请输入一个字符串： a1b2,c3d4,eE4d3C2,B1A\n"
     ]
    },
    {
     "name": "stdout",
     "output_type": "stream",
     "text": [
      "True\n"
     ]
    }
   ],
   "source": [
    "import re\n",
    "\n",
    "\n",
    "def is_palindrome(string_for_test):\n",
    "    \"\"\" 判断字符串是否是回文 \"\"\"\n",
    "    # 去掉字符串中的空格、标点等\n",
    "    string_for_test = re.sub(r'[^\\w]', '', string_for_test)\n",
    "    # 将字母都转换为小写\n",
    "    string_for_test = string_for_test.lower()\n",
    "    string_length = len(string_for_test)\n",
    "    if string_length == 0:\n",
    "        # 如果是空字符串，返回错误消息\n",
    "        return \"不能是空字符串\"\n",
    "    elif string_length == 1:\n",
    "        # 如果只有1个字符，按规则应是回文\n",
    "        return True\n",
    "    else:\n",
    "        for i in range(string_length//2):\n",
    "            # 从头和尾同时往中间逐个取字符，如果首尾对应位置的字符存在不相等，则非回文\n",
    "            if string_for_test[i] != string_for_test[-i-1]:\n",
    "                return False\n",
    "        return True\n",
    "\n",
    "\n",
    "if __name__ == '__main__':\n",
    "    input_string = input(\"请输入一个字符串：\")\n",
    "    result = is_palindrome(input_string)\n",
    "    print(result)"
   ]
  },
  {
   "cell_type": "code",
   "execution_count": null,
   "metadata": {},
   "outputs": [],
   "source": []
  }
 ],
 "metadata": {
  "imageInfo": {
   "id": "e1a07296-22a8-4f05-8bc8-e936c8e54090",
   "name": "notebook2.0-mul-kernel-cpu-cp36"
  },
  "kernelspec": {
   "display_name": "Conda-python3",
   "language": "python",
   "name": "conda-python3"
  },
  "language_info": {
   "codemirror_mode": {
    "name": "ipython",
    "version": 3
   },
   "file_extension": ".py",
   "mimetype": "text/x-python",
   "name": "python",
   "nbconvert_exporter": "python",
   "pygments_lexer": "ipython3",
   "version": "3.6.4"
  },
  "shareInfo": {
   "id": "f64d1c13-e7e7-4fd8-a636-42a4933c650b",
   "url": "https://authoring-modelarts-cnnorth4.huaweicloud.com/console/lab?share-url-b64=aHR0cHM6Ly9ub3RlYm9va3NoYXJlLm9icy5jbi1ub3J0aC00Lm15aHVhd2VpY2xvdWQuY29tLzBjZmRiYjkyNGI4MGY1OGIxZjg1YzAwNTBjNmEzOGRhL3B5dGhvbl9leGVyY2lzZTEwLmlweW5i"
  }
 },
 "nbformat": 4,
 "nbformat_minor": 4
}
