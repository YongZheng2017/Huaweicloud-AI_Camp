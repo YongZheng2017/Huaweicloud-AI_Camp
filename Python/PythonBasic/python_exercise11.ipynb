{
 "cells": [
  {
   "cell_type": "markdown",
   "metadata": {},
   "source": [
    "## **Python编程知识-扫雷**"
   ]
  },
  {
   "cell_type": "markdown",
   "metadata": {},
   "source": [
    "受限于篇幅原因，本课程未完全覆盖 Python 中的全部语法，欢迎你将更全面的 Python 学习笔记分享到[ AI Gallery Notebook](https://marketplace.huaweicloud.com/markets/aihub/notebook/list/) 版块获得[成长值](https://marketplace.huaweicloud.com/markets/aihub/article/detail/?content_id=9b8d7e7a-a150-449e-ac17-2dcf76d8b492)，分享方法请查看[此文档](https://marketplace.huaweicloud.com/markets/aihub/article/detail/?content_id=8afec58a-b797-4bf9-acca-76ed512a3acb)。"
   ]
  },
  {
   "cell_type": "markdown",
   "metadata": {},
   "source": [
    "### **题目描述**\n",
    "大家都玩过扫雷游戏吧，给定一个矩形方正区域，里面有若干个地雷，用鼠标点击，点击后如果出现一块区域，那么说明这个点周围8个方向没有地雷，如果出现数字，数字是几，那么就表示这个区域周围8个方向有几颗地雷，如果是地雷，那你很不幸就输掉了。\n",
    "现在告诉你这个图里地雷的分布，你来给出每个点上面的数字应该是多少？\n",
    "\n",
    "\n",
    "输入\n",
    "数据的第一行有2个整数n, m(1 <= n, m <= 50)，表示一个n * m的区域，n行m列，接下来n行每行有一个长度为m的字符串，字符串只包含2种字母，”.”和”X”，其中”.”表示这个地方不是地雷，”X”表示这个地方是地雷。\n",
    "\n",
    "输出\n",
    "请输出n行内容，每一行是一个长度为m的字符串，由数字和符号”X”组成，如果这个点不是地雷，那么就表示这个点周围有几颗地雷，否则这个点存放符号”X”，表示这个点是地雷。\n",
    "\n",
    "样例\n",
    "输入样例 1 \n",
    "\n",
    "3 5\n",
    ".....\n",
    "..XX.\n",
    ".....\n",
    "输出样例 1\n",
    "\n",
    "01221\n",
    "01XX1\n",
    "01221\n",
    "\n",
    "    "
   ]
  },
  {
   "cell_type": "markdown",
   "metadata": {},
   "source": [
    "### **代码实现**\n",
    "请在下面 cell 中编写代码，实现题目描述的要求。"
   ]
  },
  {
   "cell_type": "code",
   "execution_count": 2,
   "metadata": {},
   "outputs": [
    {
     "name": "stdin",
     "output_type": "stream",
     "text": [
      "请输入雷区大小，用英文逗号分隔： 3,5\n"
     ]
    },
    {
     "name": "stdout",
     "output_type": "stream",
     "text": [
      "请输入雷区：\n"
     ]
    },
    {
     "name": "stdin",
     "output_type": "stream",
     "text": [
      " .....\n",
      " ..xx.\n",
      " .....\n"
     ]
    },
    {
     "name": "stdout",
     "output_type": "stream",
     "text": [
      "01221\n",
      "01xx1\n",
      "01221\n"
     ]
    }
   ],
   "source": [
    "\n",
    "def mine(rows, columns, mines):\n",
    "    \"\"\" 返回雷区中每个点周围的地雷数量 \"\"\"\n",
    "    result = mines.copy()\n",
    "    # 遍历雷区\n",
    "    for row_index in range(rows):\n",
    "        for column_index in range(columns):\n",
    "            if mines[row_index][column_index] == 'x' or mines[row_index][column_index] == 'X':\n",
    "                # 该点为地雷，不用计算\n",
    "                continue\n",
    "\n",
    "            # 判断当前点周围的8个方位是否地雷\n",
    "            mine_count = 0\n",
    "            for i in range(-1, 2):\n",
    "                for j in range(-1, 2):\n",
    "                    # 忽略超界的点\n",
    "                    if row_index+i < 0 or column_index+j < 0 or row_index+i >= rows or column_index+j >= columns:\n",
    "                        continue\n",
    "                    elif mines[row_index+i][column_index+j] == 'x' or mines[row_index+i][column_index+j] == 'X':\n",
    "                        mine_count += 1\n",
    "            result[row_index][column_index] = mine_count\n",
    "    return result\n",
    "\n",
    "\n",
    "if __name__ == '__main__':\n",
    "    size = input(\"请输入雷区大小，用英文逗号分隔：\")\n",
    "    n, m = size.split(',')\n",
    "    print(\"请输入雷区：\")\n",
    "    mines = []\n",
    "    for i in range(int(n)):\n",
    "        mines.append(list(input()))\n",
    "    result = mine(int(n), int(m), mines)\n",
    "    for line in result:\n",
    "        print(\"\".join([str(item) for item in line]))\n"
   ]
  },
  {
   "cell_type": "code",
   "execution_count": null,
   "metadata": {},
   "outputs": [],
   "source": []
  }
 ],
 "metadata": {
  "kernelspec": {
   "display_name": "Conda-python3",
   "language": "python",
   "name": "conda-python3"
  },
  "language_info": {
   "codemirror_mode": {
    "name": "ipython",
    "version": 3
   },
   "file_extension": ".py",
   "mimetype": "text/x-python",
   "name": "python",
   "nbconvert_exporter": "python",
   "pygments_lexer": "ipython3",
   "version": "3.6.4"
  }
 },
 "nbformat": 4,
 "nbformat_minor": 4
}
