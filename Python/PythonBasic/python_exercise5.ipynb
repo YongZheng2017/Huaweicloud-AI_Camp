{
 "cells": [
  {
   "cell_type": "markdown",
   "metadata": {},
   "source": [
    "## **Python编程知识-学习成绩划分**"
   ]
  },
  {
   "cell_type": "markdown",
   "metadata": {},
   "source": [
    "受限于篇幅原因，本课程未完全覆盖 Python 中的全部语法，欢迎你将更全面的 Python 学习笔记分享到[ AI Gallery Notebook](https://marketplace.huaweicloud.com/markets/aihub/notebook/list/) 版块获得[成长值](https://marketplace.huaweicloud.com/markets/aihub/article/detail/?content_id=9b8d7e7a-a150-449e-ac17-2dcf76d8b492)，分享方法请查看[此文档](https://marketplace.huaweicloud.com/markets/aihub/article/detail/?content_id=8afec58a-b797-4bf9-acca-76ed512a3acb)。"
   ]
  },
  {
   "cell_type": "markdown",
   "metadata": {},
   "source": [
    "### **题目描述**\n",
    "\n",
    "输入一个0-100之间的整数成绩，\n",
    "\n",
    "学习成绩>=90的同学，用A表示；\n",
    "\n",
    "学习成绩60-89分的同学，用B表示；\n",
    "\n",
    "学习成绩<60的同学，用C表示。\n",
    "\n",
    "例如：输入98，输出A    "
   ]
  },
  {
   "cell_type": "markdown",
   "metadata": {},
   "source": [
    "### **代码实现**\n",
    "请在下面 cell 中编写代码，实现题目描述的要求。"
   ]
  },
  {
   "cell_type": "code",
   "execution_count": 1,
   "metadata": {},
   "outputs": [
    {
     "name": "stdin",
     "output_type": "stream",
     "text": [
      "请输入成绩： 98\n"
     ]
    },
    {
     "name": "stdout",
     "output_type": "stream",
     "text": [
      "A\n"
     ]
    }
   ],
   "source": [
    "def score_level(score):\n",
    "    \"\"\" 成绩划分 \"\"\"\n",
    "    try:\n",
    "        score = float(score)\n",
    "    except ValueError:\n",
    "        return \"成绩必须是数字。\"\n",
    "    else:\n",
    "        if score < 0:\n",
    "            # 成绩不能是负数\n",
    "            return \"成绩不能是负数\"\n",
    "        elif score > 100:\n",
    "            return \"成绩不能超过100。\"\n",
    "        elif 0 <= score < 60:\n",
    "            return \"C\"\n",
    "        elif 60 <= score < 90:\n",
    "            return \"B\"\n",
    "        elif 90 <= score <= 100:\n",
    "            return \"A\"\n",
    "\n",
    "\n",
    "if __name__ == '__main__':\n",
    "    score = input(\"请输入成绩：\")\n",
    "    print(score_level(score))"
   ]
  },
  {
   "cell_type": "code",
   "execution_count": null,
   "metadata": {},
   "outputs": [],
   "source": []
  }
 ],
 "metadata": {
  "imageInfo": {
   "id": "e1a07296-22a8-4f05-8bc8-e936c8e54090",
   "name": "notebook2.0-mul-kernel-cpu-cp36"
  },
  "kernelspec": {
   "display_name": "Conda-python3",
   "language": "python",
   "name": "conda-python3"
  },
  "language_info": {
   "codemirror_mode": {
    "name": "ipython",
    "version": 3
   },
   "file_extension": ".py",
   "mimetype": "text/x-python",
   "name": "python",
   "nbconvert_exporter": "python",
   "pygments_lexer": "ipython3",
   "version": "3.6.4"
  },
  "shareInfo": {
   "id": "c7b0c46b-5955-4b35-9949-aa6c858dc2fa",
   "url": "https://authoring-modelarts-cnnorth4.huaweicloud.com/console/lab?share-url-b64=aHR0cHM6Ly9ub3RlYm9va3NoYXJlLm9icy5jbi1ub3J0aC00Lm15aHVhd2VpY2xvdWQuY29tLzBjZmRiYjkyNGI4MGY1OGIxZjg1YzAwNTBjNmEzOGRhL3B5dGhvbl9leGVyY2lzZTguaXB5bmI%3D"
  }
 },
 "nbformat": 4,
 "nbformat_minor": 4
}
