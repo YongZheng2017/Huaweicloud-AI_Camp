{
 "cells": [
  {
   "cell_type": "markdown",
   "metadata": {},
   "source": [
    "## **Python编程知识-被选召的孩子**"
   ]
  },
  {
   "cell_type": "markdown",
   "metadata": {},
   "source": [
    "受限于篇幅原因，本课程未完全覆盖 Python 中的全部语法，欢迎你将更全面的 Python 学习笔记分享到[ AI Gallery Notebook](https://marketplace.huaweicloud.com/markets/aihub/notebook/list/) 版块获得[成长值](https://marketplace.huaweicloud.com/markets/aihub/article/detail/?content_id=9b8d7e7a-a150-449e-ac17-2dcf76d8b492)，分享方法请查看[此文档](https://marketplace.huaweicloud.com/markets/aihub/article/detail/?content_id=8afec58a-b797-4bf9-acca-76ed512a3acb)。"
   ]
  },
  {
   "cell_type": "markdown",
   "metadata": {},
   "source": [
    "### **题目描述**\n",
    "小华和他的小伙伴们想要参加一个游戏，但是参加的人很多需要筛选。主办方的选择孩子的标准如下：  \n",
    "n个孩子从左到右站成一排，每个孩子都有一个分数（该分数为正整数）,要求所选出的孩子们必须是连续的一段，而且所选出的孩子的分数的平均值必须大于等于预先给定的一个常数b。但是这样选择的方法可能并不唯一，请问有几种选法呢？\n",
    "\n",
    "\n",
    "\n",
    "输入\n",
    "\n",
    "第一行：输入候选孩子的个数n（1<=n<=20000）和给定的常数b（1<=b<=500）  \n",
    "接下来n行：输入n个孩子的分数Xi(i=1,2,…)且1<=Xi<=500。\n",
    "\n",
    "输出\n",
    "\n",
    "输出选择的种数。\n",
    "\n",
    "\n",
    "输入样例 \n",
    "\n",
    "5 9\n",
    "32\n",
    "4\n",
    "9\n",
    "21\n",
    "10\n",
    "\n",
    "输出样例 \n",
    "\n",
    "13\n",
    " \n",
    "提示\n",
    "\n",
    "merge sort  \n",
    "a\\[i\\]表示第i个孩子的分数，s\\[i\\]表示从第一个孩子到第i个孩子（包括第i个）的分数之和，则第j个到第i个的分数的平均值为（s\\[j\\]-s\\[i-1\\]）/(j-i+1)，即直角坐标系上的（i-1，s\\[i-1\\]）.(j,s\\[j\\])两点连线的斜率。所以平均值大于或等于b，就是斜率大于或等于b。那么判断从第i个人开始选有几种选法，过（i-1，s\\[i-1\\]）做一条斜率为b的直线(与y轴交点为y\\[i-1\\]),有几个点是在它的上方。根据直线的性质，将这条直线平移到所判断的点（j,s\\[j\\]），与y轴的交点为y\\[j\\]，如果y\\[j\\]<y\\[i-1\\]，则不能选，否则就可以选。因而就可以通过判断y\\[\\]（y\\[0\\]=0）这一组数据里，y\\[i\\]>=y\\[j\\]的对数。也可以用总的（n+1）\\*n/2减去逆序对（不包括相等的情况）。"
   ]
  },
  {
   "cell_type": "markdown",
   "metadata": {},
   "source": [
    "### **代码实现**\n",
    "请在下面 cell 中编写代码，实现题目描述的要求。"
   ]
  },
  {
   "cell_type": "code",
   "execution_count": 1,
   "metadata": {},
   "outputs": [
    {
     "name": "stdin",
     "output_type": "stream",
     "text": [
      "请输入候选孩子的个数和给定的常数，空格分隔： 5 9\n"
     ]
    },
    {
     "name": "stdout",
     "output_type": "stream",
     "text": [
      "请输入分数：\n"
     ]
    },
    {
     "name": "stdin",
     "output_type": "stream",
     "text": [
      " 32\n",
      " 4\n",
      " 9\n",
      " 21\n",
      " 10\n"
     ]
    },
    {
     "name": "stdout",
     "output_type": "stream",
     "text": [
      "13\n"
     ]
    }
   ],
   "source": [
    "\n",
    "\n",
    "def count_select(scores, constant):\n",
    "    \"\"\" 计算平均值大于给定常数的选法数 \"\"\"\n",
    "    scores_count = len(scores)\n",
    "    result = 0\n",
    "\n",
    "    # 计算累加和\n",
    "    s = [sum(scores[:i+1]) for i in range(scores_count)]\n",
    "\n",
    "    for i in range(scores_count):\n",
    "        for j in range(i, scores_count):\n",
    "            # 计算平均值\n",
    "            if i == 0:\n",
    "                # i=0时需要特殊处理\n",
    "                average = s[j]/(j+1)\n",
    "            else:\n",
    "                average = (s[j]-s[i-1])/(j-i+1)\n",
    "\n",
    "            # 平均值大于指定常数，计数加1\n",
    "            if average >= constant:\n",
    "                result += 1\n",
    "\n",
    "    return result\n",
    "\n",
    "\n",
    "if __name__ == '__main__':\n",
    "    input_value = input(\"请输入候选孩子的个数和给定的常数，空格分隔：\")\n",
    "    n, b = input_value.split()\n",
    "    # 转换为整数\n",
    "    try:\n",
    "        n = int(n)\n",
    "        b = float(b)\n",
    "    except ValueError:\n",
    "        print(\"请输入数值。\")\n",
    "    score_list = []\n",
    "    print(\"请输入分数：\")\n",
    "    for i in range(n):\n",
    "        score_list.append(int(input()))\n",
    "    result = count_select(score_list, b)\n",
    "    print(result)\n"
   ]
  },
  {
   "cell_type": "code",
   "execution_count": null,
   "metadata": {},
   "outputs": [],
   "source": []
  }
 ],
 "metadata": {
  "kernelspec": {
   "display_name": "Conda-python3",
   "language": "python",
   "name": "conda-python3"
  },
  "language_info": {
   "codemirror_mode": {
    "name": "ipython",
    "version": 3
   },
   "file_extension": ".py",
   "mimetype": "text/x-python",
   "name": "python",
   "nbconvert_exporter": "python",
   "pygments_lexer": "ipython3",
   "version": "3.6.4"
  }
 },
 "nbformat": 4,
 "nbformat_minor": 4
}
