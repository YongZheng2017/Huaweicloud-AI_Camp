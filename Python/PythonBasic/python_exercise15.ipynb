{
 "cells": [
  {
   "cell_type": "markdown",
   "metadata": {},
   "source": [
    "## **Python编程知识-弟弟的作业**"
   ]
  },
  {
   "cell_type": "markdown",
   "metadata": {},
   "source": [
    "受限于篇幅原因，本课程未完全覆盖 Python 中的全部语法，欢迎你将更全面的 Python 学习笔记分享到[ AI Gallery Notebook](https://marketplace.huaweicloud.com/markets/aihub/notebook/list/) 版块获得[成长值](https://marketplace.huaweicloud.com/markets/aihub/article/detail/?content_id=9b8d7e7a-a150-449e-ac17-2dcf76d8b492)，分享方法请查看[此文档](https://marketplace.huaweicloud.com/markets/aihub/article/detail/?content_id=8afec58a-b797-4bf9-acca-76ed512a3acb)。"
   ]
  },
  {
   "cell_type": "markdown",
   "metadata": {},
   "source": [
    "### **题目描述**\n",
    "你的弟弟刚做完了“100以内数的加减法”这部分的作业，请你帮他检查一下。每道题目（包括弟弟的答案）的格式为a+b=c或者a-b=c，其中a和b是作业中给出的，均为不超过100的非负整数；c是弟弟算出的答案，可能是不超过200的非负整数，也可能是单个字符”?”,表示他不会算。\n",
    "\n",
    "\n",
    "输入\n",
    "输入文件的第一行只有一个数字T(1 <= T <= 1000)，表示下面有T个算术运算，接下来有T行，每行包含一道题目，格式有以下4种情况：\n",
    "a+b=c\n",
    "a-b=c\n",
    "a+b=?\n",
    "a-b=?\n",
    "其中0 <= b <= a <= 100，0 <= c <= 200，且不包含任何空白字符。输入的所有整数均不含前导0。\n",
    "\n",
    "输出\n",
    "输出仅一行一个数字，表示”a+b=c”和”a-b=c”中计算正确的个数。\n",
    "\n",
    "样例\n",
    "输入样例 \n",
    "4\n",
    "1+2=3\n",
    "3-1=5\n",
    "6+7=?\n",
    "99-0=99\n",
    "输出样例 \n",
    "2\n",
    "\n",
    "    "
   ]
  },
  {
   "cell_type": "markdown",
   "metadata": {},
   "source": [
    "### **代码实现**\n",
    "请在下面 cell 中编写代码，实现题目描述的要求。"
   ]
  },
  {
   "cell_type": "code",
   "execution_count": 2,
   "metadata": {},
   "outputs": [
    {
     "name": "stdin",
     "output_type": "stream",
     "text": [
      "请输入算术题的数量： 4\n",
      " 1+2=3\n",
      " 3-1=5\n",
      " 6+7=?\n",
      " 99-0=99\n"
     ]
    },
    {
     "name": "stdout",
     "output_type": "stream",
     "text": [
      "1\n",
      "2\n",
      "答对的题目数为： 2\n"
     ]
    }
   ],
   "source": [
    "import re\n",
    "\n",
    "\n",
    "def homework_check(home_work):\n",
    "    \"\"\" 检查作业中对的题数 \"\"\"\n",
    "    correct_number = 0\n",
    "    for question in home_work:\n",
    "        factor1, method, factor2, result = re.match(\"^(\\d{1,3})([+|-])(\\d{1,3})=(.+)$\", question).groups()\n",
    "        if result == \"?\":\n",
    "            # 答案为?表示不会\n",
    "            continue\n",
    "\n",
    "        if method == '+':\n",
    "            if int(factor1) + int(factor2) == int(result):\n",
    "                correct_number += 1\n",
    "        elif method == '-':\n",
    "            if int(factor1) - int(factor2) == int(result):\n",
    "                correct_number += 1\n",
    "        else:\n",
    "            return \"题目数据错误！\"\n",
    "\n",
    "    return correct_number\n",
    "\n",
    "\n",
    "if __name__ == '__main__':\n",
    "    count = input(\"请输入算术题的数量：\")\n",
    "    questions = []\n",
    "    for i in range(int(count)):\n",
    "        question = input()\n",
    "        questions.append(question)\n",
    "    result = homework_check(questions)\n",
    "    print(\"答对的题目数为：\", result)\n"
   ]
  },
  {
   "cell_type": "code",
   "execution_count": null,
   "metadata": {},
   "outputs": [],
   "source": []
  }
 ],
 "metadata": {
  "kernelspec": {
   "display_name": "Conda-python3",
   "language": "python",
   "name": "conda-python3"
  },
  "language_info": {
   "codemirror_mode": {
    "name": "ipython",
    "version": 3
   },
   "file_extension": ".py",
   "mimetype": "text/x-python",
   "name": "python",
   "nbconvert_exporter": "python",
   "pygments_lexer": "ipython3",
   "version": "3.6.4"
  }
 },
 "nbformat": 4,
 "nbformat_minor": 4
}
