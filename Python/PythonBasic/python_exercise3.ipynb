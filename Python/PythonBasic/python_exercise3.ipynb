{
 "cells": [
  {
   "cell_type": "markdown",
   "metadata": {},
   "source": [
    "## **Python编程知识-生日提取作业**"
   ]
  },
  {
   "cell_type": "markdown",
   "metadata": {},
   "source": [
    "受限于篇幅原因，本课程未完全覆盖 Python 中的全部语法，欢迎你将更全面的 Python 学习笔记分享到[ AI Gallery Notebook](https://marketplace.huaweicloud.com/markets/aihub/notebook/list/) 版块获得[成长值](https://marketplace.huaweicloud.com/markets/aihub/article/detail/?content_id=9b8d7e7a-a150-449e-ac17-2dcf76d8b492)，分享方法请查看[此文档](https://marketplace.huaweicloud.com/markets/aihub/article/detail/?content_id=8afec58a-b797-4bf9-acca-76ed512a3acb)。"
   ]
  },
  {
   "cell_type": "markdown",
   "metadata": {},
   "source": [
    "### **题目描述**\n",
    "\n",
    "**提取所有人的生日**\n",
    "\n",
    "\n",
    "需要匹配的  --                                            需要提取的\n",
    "\n",
    "-   刘伟 1996.8.24                                   - -    8 24\n",
    "    \n",
    "-   李伟 1993年1月2日                               -  -    1 2\n",
    "    \n",
    "-   聂芳 1997\\-7\\-24                                -  -    7 24\n",
    "    \n",
    "-   陈伟 1996.3.21                                  -  -    3 21\n",
    "    \n",
    "-   杜英 1991.12.1                                  -  -    12 1\n",
    "     \n",
    "-   段秀 1994\\-7\\-5                                 - -    7 5\n",
    "    \n",
    "-   路娜 1993年1月6日                               -   -    1 6\n",
    "    \n",
    "**编写一个正则表达式，使得以上所有的生日都能被正确提取**\n"
   ]
  },
  {
   "cell_type": "markdown",
   "metadata": {},
   "source": [
    "### **代码实现**\n",
    "请在下面 cell 中编写代码，实现题目描述的要求。"
   ]
  },
  {
   "cell_type": "code",
   "execution_count": 3,
   "metadata": {},
   "outputs": [
    {
     "name": "stdin",
     "output_type": "stream",
     "text": [
      " 刘伟1996.8.24\n"
     ]
    },
    {
     "name": "stdout",
     "output_type": "stream",
     "text": [
      "[('8', '24')]\n",
      "[('8', '24')]\n",
      "[('1', '2')]\n",
      "[('7', '24')]\n",
      "[('3', '21')]\n",
      "[('12', '1')]\n",
      "[('7', '5')]\n",
      "[('1', '6')]\n"
     ]
    }
   ],
   "source": [
    "import re  # 导入正则表达式模块\n",
    "\n",
    "\n",
    "def get_birthday(input_string):\n",
    "    \"\"\" 解析输入字符串中生日的 月 和 日 \"\"\"\n",
    "    # 4位'年'后的.需要用非贪婪匹配，否则月份可能会只匹配到1位\n",
    "    result = re.findall(r'.+\\d{4}.+?(\\d{1,2})[月|\\.|-](\\d{1,2})', s)  # 在单引号内输入正则表达式\n",
    "    return result\n",
    "\n",
    "s = input()  # 输入上述任一需要提取的生日格式，如: 刘伟1996.8.24\n",
    "\n",
    "result = get_birthday(s)  # 在单引号内输入正则表达式\n",
    "print(result)  # 输出正确结果 如： 8 24\n",
    "\n",
    "# 测试全部字符串\n",
    "test_string = ['刘伟 1996.8.24', '李伟 1993年1月2日', '聂芳 1997-7-24', '陈伟 1996.3.21', '杜英 1991.12.1', '段秀 1994-7-5', '路娜 1993年1月6日']\n",
    "for s in test_string:\n",
    "    result = get_birthday(s)\n",
    "    print(result)"
   ]
  },
  {
   "cell_type": "code",
   "execution_count": null,
   "metadata": {},
   "outputs": [],
   "source": []
  }
 ],
 "metadata": {
  "kernelspec": {
   "display_name": "Conda-python3",
   "language": "python",
   "name": "conda-python3"
  },
  "language_info": {
   "codemirror_mode": {
    "name": "ipython",
    "version": 3
   },
   "file_extension": ".py",
   "mimetype": "text/x-python",
   "name": "python",
   "nbconvert_exporter": "python",
   "pygments_lexer": "ipython3",
   "version": "3.6.4"
  }
 },
 "nbformat": 4,
 "nbformat_minor": 4
}
