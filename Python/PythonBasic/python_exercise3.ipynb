{
 "cells": [
  {
   "cell_type": "markdown",
   "metadata": {},
   "source": [
    "## **Python编程知识-字符串作业**"
   ]
  },
  {
   "cell_type": "markdown",
   "metadata": {},
   "source": [
    "受限于篇幅原因，本课程未完全覆盖 Python 中的全部语法，欢迎你将更全面的 Python 学习笔记分享到[ AI Gallery Notebook](https://marketplace.huaweicloud.com/markets/aihub/notebook/list/) 版块获得[成长值](https://marketplace.huaweicloud.com/markets/aihub/article/detail/?content_id=9b8d7e7a-a150-449e-ac17-2dcf76d8b492)，分享方法请查看[此文档](https://marketplace.huaweicloud.com/markets/aihub/article/detail/?content_id=8afec58a-b797-4bf9-acca-76ed512a3acb)。"
   ]
  },
  {
   "cell_type": "markdown",
   "metadata": {},
   "source": [
    "### **题目描述**\n",
    "输入一个字符串，求最大的没有重复字符的子字符串长度\n",
    "\n",
    "比如：输入huaweicloudaigallery\n",
    "\n",
    "输出 9 （huaweiclo或aweicloud或weiclouda）\n",
    "\n",
    "    \n"
   ]
  },
  {
   "cell_type": "markdown",
   "metadata": {},
   "source": [
    "### **代码实现**\n",
    "请在下面 cell 中编写代码，实现题目描述的要求。"
   ]
  },
  {
   "cell_type": "code",
   "execution_count": 1,
   "metadata": {},
   "outputs": [
    {
     "name": "stdin",
     "output_type": "stream",
     "text": [
      " huaweicloudaigallery\n"
     ]
    },
    {
     "name": "stdout",
     "output_type": "stream",
     "text": [
      "9\n"
     ]
    }
   ],
   "source": [
    "string = input()  # 手动输入字符串\n",
    "\n",
    "def no_repeat(input_string):\n",
    "    \"\"\" 判断输入字符串是否存在重复字符，不存在返回True，否则返回False \"\"\"\n",
    "    if len(set(input_string)) == len(input_string):\n",
    "        return True\n",
    "    else:\n",
    "        return False\n",
    "\n",
    "\n",
    "def func(input_string):\n",
    "    # 输入一个字符串，求最大的没有重复字符的子字符串长度\n",
    "    input_string_length = len(input_string)\n",
    "    if input_string_length == 0:\n",
    "        return 0\n",
    "    elif input_string_length == 1:\n",
    "        return 1\n",
    "    else:\n",
    "        # 求字符串的 “从最长 到 1个字符”的子串\n",
    "        for i in range(input_string_length, 0, -1):\n",
    "            # 从输入字符串的开头，每次向后移动1位，取长度从 “最长 到 1个字符” 递减的子串\n",
    "            for j in range(input_string_length-i+1):\n",
    "                sub_string = input_string[j:j+i]\n",
    "                if no_repeat(sub_string):\n",
    "                    # 返回最长不重复子串的长度\n",
    "                    return i\n",
    "\n",
    "max_length = func(string)\n",
    "print(max_length)\n"
   ]
  },
  {
   "cell_type": "code",
   "execution_count": null,
   "metadata": {},
   "outputs": [],
   "source": []
  }
 ],
 "metadata": {
  "imageInfo": {
   "id": "e1a07296-22a8-4f05-8bc8-e936c8e54090",
   "name": "notebook2.0-mul-kernel-cpu-cp36"
  },
  "kernelspec": {
   "display_name": "Conda-python3",
   "language": "python",
   "name": "conda-python3"
  },
  "language_info": {
   "codemirror_mode": {
    "name": "ipython",
    "version": 3
   },
   "file_extension": ".py",
   "mimetype": "text/x-python",
   "name": "python",
   "nbconvert_exporter": "python",
   "pygments_lexer": "ipython3",
   "version": "3.6.4"
  },
  "shareInfo": {
   "id": "6df90543-7933-481d-be37-72b585046199",
   "url": "https://authoring-modelarts-cnnorth4.huaweicloud.com/console/lab?share-url-b64=aHR0cHM6Ly9ub3RlYm9va3NoYXJlLm9icy5jbi1ub3J0aC00Lm15aHVhd2VpY2xvdWQuY29tLzBjZmRiYjkyNGI4MGY1OGIxZjg1YzAwNTBjNmEzOGRhL3B5dGhvbl9leGVyY2lzZTQuaXB5bmI%3D"
  }
 },
 "nbformat": 4,
 "nbformat_minor": 4
}
