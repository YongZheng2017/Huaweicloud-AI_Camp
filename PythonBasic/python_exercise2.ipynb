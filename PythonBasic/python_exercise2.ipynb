{
 "cells": [
  {
   "cell_type": "markdown",
   "metadata": {},
   "source": [
    "## **Python编程知识-基础作业**"
   ]
  },
  {
   "cell_type": "markdown",
   "metadata": {},
   "source": [
    "### **题目描述**\n",
    "\n",
    "输入一个int型整数，按照从右向左的阅读顺序，返回一个不含重复数字的新的整数。\n",
    "保证输入的整数最后一位不是0。\n",
    "\n",
    "输入描述：\n",
    "输入一个int型整数\n",
    "\n",
    "输出描述：\n",
    "按照从右向左的阅读顺序，返回一个不含重复数字的新的整数\n",
    "\n",
    "示例1\n",
    "输入：\n",
    "9876673\n",
    "输出：\n",
    "37689"
   ]
  },
  {
   "cell_type": "markdown",
   "metadata": {},
   "source": [
    "### **代码实现**\n",
    "请在下面 cell 中编写代码，实现题目描述的要求。"
   ]
  },
  {
   "cell_type": "code",
   "execution_count": 2,
   "metadata": {},
   "outputs": [
    {
     "name": "stdin",
     "output_type": "stream",
     "text": [
      " 9876673\n"
     ]
    },
    {
     "name": "stdout",
     "output_type": "stream",
     "text": [
      "36789\n"
     ]
    }
   ],
   "source": [
    "num = input()  \n",
    "\n",
    "try:\n",
    "    # 检查输入的必须是整数\n",
    "    int(num)\n",
    "except ValueError:\n",
    "    print(\"请输入整数。\")\n",
    "else:\n",
    "    if num[-1] == '0':\n",
    "        # 检查整数的最后一位不是0\n",
    "        print(\"整数的最后一位不能是0。\")\n",
    "    elif not num[0].isdigit():\n",
    "        # 检查整数的第一位不能带符号，例如 -9876673\n",
    "        print(\"整数的第一位不能带符号。\")\n",
    "    else:\n",
    "        new_num = []\n",
    "        for item in num:\n",
    "            if item not in new_num:\n",
    "                new_num.append(item)\n",
    "        new_num.reverse()\n",
    "        res = ''.join(new_num)\n",
    "        print(res)"
   ]
  },
  {
   "cell_type": "code",
   "execution_count": null,
   "metadata": {},
   "outputs": [],
   "source": []
  }
 ],
 "metadata": {
  "imageInfo": {
   "id": "e1a07296-22a8-4f05-8bc8-e936c8e54090",
   "name": "notebook2.0-mul-kernel-cpu-cp36"
  },
  "kernelspec": {
   "display_name": "Conda-python3",
   "language": "python",
   "name": "conda-python3"
  },
  "language_info": {
   "codemirror_mode": {
    "name": "ipython",
    "version": 3
   },
   "file_extension": ".py",
   "mimetype": "text/x-python",
   "name": "python",
   "nbconvert_exporter": "python",
   "pygments_lexer": "ipython3",
   "version": "3.6.4"
  },
  "shareInfo": {
   "id": "afc7b3b4-9b22-4477-a768-26ebf957a4b0",
   "url": "https://authoring-modelarts-cnnorth4.huaweicloud.com/console/lab?share-url-b64=aHR0cHM6Ly9ub3RlYm9va3NoYXJlLm9icy5jbi1ub3J0aC00Lm15aHVhd2VpY2xvdWQuY29tLzBjZmRiYjkyNGI4MGY1OGIxZjg1YzAwNTBjNmEzOGRhL3B5dGhvbl9leGVyY2lzZTQuaXB5bmI%3D"
  }
 },
 "nbformat": 4,
 "nbformat_minor": 4
}
