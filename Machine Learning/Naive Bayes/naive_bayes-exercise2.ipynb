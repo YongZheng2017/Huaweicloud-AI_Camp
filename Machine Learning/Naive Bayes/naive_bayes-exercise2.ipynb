{
 "cells": [
  {
   "cell_type": "markdown",
   "metadata": {},
   "source": [
    "## **机器学习-朴素贝叶斯作业**"
   ]
  },
  {
   "cell_type": "markdown",
   "metadata": {},
   "source": [
    "本课程未完全覆盖 朴素贝叶斯 的全部操作，欢迎你将更全面的 朴素贝叶斯 学习笔记分享到[ AI Gallery Notebook](https://marketplace.huaweicloud.com/markets/aihub/notebook/list/) 版块获得[成长值](https://marketplace.huaweicloud.com/markets/aihub/article/detail/?content_id=9b8d7e7a-a150-449e-ac17-2dcf76d8b492)，分享方法请查看[此文档](https://marketplace.huaweicloud.com/markets/aihub/article/detail/?content_id=8afec58a-b797-4bf9-acca-76ed512a3acb)。"
   ]
  },
  {
   "cell_type": "markdown",
   "metadata": {},
   "source": [
    "### **题目描述**"
   ]
  },
  {
   "cell_type": "markdown",
   "metadata": {},
   "source": [
    "尝试修改 参数对模型的影响。\n",
    "\n",
    "请你尝试修改 BernoulliNB() 函数的 binarize（样本特征二值化的阈值） 参数的不同取值，看看该参数的修改对模型会有怎样的影响\n",
    "\n",
    "提示：\n",
    "\n",
    "1. 你可以在cell中执行代码\"help(函数名)\"来查看函数的使用方法；\n",
    "2. <font color='red'>请在下文中搜索英文问号?，问号所在之处就是你需要修改代码的地方</font>；\n",
    "3. 修改好代码之后，跑通整个案例代码，即可完成作业，请将完成的作业分享到AI Gallery，<font color='red'>标题以“2021实战营”为开头命名</font>；"
   ]
  },
  {
   "cell_type": "markdown",
   "metadata": {},
   "source": [
    "### **代码实现**\n",
    "请在下面 cell 中编写代码，实现题目描述的要求。"
   ]
  },
  {
   "cell_type": "markdown",
   "metadata": {},
   "source": [
    "### 1、导入依赖库"
   ]
  },
  {
   "cell_type": "code",
   "execution_count": 1,
   "metadata": {},
   "outputs": [],
   "source": [
    "import numpy as np\n",
    "from sklearn.naive_bayes import BernoulliNB"
   ]
  },
  {
   "cell_type": "markdown",
   "metadata": {},
   "source": [
    "### 2、创建数据集"
   ]
  },
  {
   "cell_type": "code",
   "execution_count": 2,
   "metadata": {},
   "outputs": [],
   "source": [
    "X = np.random.randint(2, size=(6, 100))\n",
    "Y = np.array([1, 2, 3, 4, 4, 5])"
   ]
  },
  {
   "cell_type": "markdown",
   "metadata": {},
   "source": [
    "### 3、定义模型"
   ]
  },
  {
   "cell_type": "code",
   "execution_count": 8,
   "metadata": {},
   "outputs": [],
   "source": [
    "clf1 = BernoulliNB(binarize=0)  # 请在此处修改 binarize 的参数值\n",
    "clf2 = BernoulliNB(binarize=0.2) \n",
    "clf3 = BernoulliNB(binarize=0.4) \n",
    "clf4 = BernoulliNB(binarize=0.6) \n",
    "clf5 = BernoulliNB(binarize=0.8) \n",
    "clf6 = BernoulliNB(binarize=1.0) \n",
    "clf7 = BernoulliNB(binarize=None)"
   ]
  },
  {
   "cell_type": "markdown",
   "metadata": {},
   "source": [
    "### 4、训练模型"
   ]
  },
  {
   "cell_type": "code",
   "execution_count": 9,
   "metadata": {},
   "outputs": [
    {
     "data": {
      "text/plain": [
       "BernoulliNB(alpha=1.0, binarize=None, class_prior=None, fit_prior=True)"
      ]
     },
     "execution_count": 9,
     "metadata": {},
     "output_type": "execute_result"
    }
   ],
   "source": [
    "clf1.fit(X, Y)\n",
    "clf2.fit(X, Y)\n",
    "clf3.fit(X, Y)\n",
    "clf4.fit(X, Y)\n",
    "clf5.fit(X, Y)\n",
    "clf6.fit(X, Y)\n",
    "clf7.fit(X, Y)"
   ]
  },
  {
   "cell_type": "markdown",
   "metadata": {},
   "source": [
    "### 5、输出预测结果"
   ]
  },
  {
   "cell_type": "code",
   "execution_count": 10,
   "metadata": {},
   "outputs": [
    {
     "name": "stdout",
     "output_type": "stream",
     "text": [
      "[3]\n",
      "[3]\n",
      "[3]\n",
      "[3]\n",
      "[3]\n",
      "[4]\n",
      "[3]\n"
     ]
    }
   ],
   "source": [
    "print(clf1.predict(X[2:3]))\n",
    "print(clf2.predict(X[2:3]))\n",
    "print(clf3.predict(X[2:3]))\n",
    "print(clf4.predict(X[2:3]))\n",
    "print(clf5.predict(X[2:3]))\n",
    "print(clf6.predict(X[2:3]))\n",
    "print(clf7.predict(X[2:3]))"
   ]
  },
  {
   "cell_type": "code",
   "execution_count": null,
   "metadata": {},
   "outputs": [],
   "source": []
  }
 ],
 "metadata": {
  "imageInfo": {
   "id": "e1a07296-22a8-4f05-8bc8-e936c8e54090",
   "name": "notebook2.0-mul-kernel-cpu-cp36"
  },
  "kernelspec": {
   "display_name": "XGBoost-Sklearn",
   "language": "python",
   "name": "xgboost-sklearn"
  },
  "language_info": {
   "codemirror_mode": {
    "name": "ipython",
    "version": 3
   },
   "file_extension": ".py",
   "mimetype": "text/x-python",
   "name": "python",
   "nbconvert_exporter": "python",
   "pygments_lexer": "ipython3",
   "version": "3.6.2"
  },
  "shareInfo": {
   "id": "ad1f7c66-c9d4-4b73-9f55-e5c38f2fa495",
   "url": "https://authoring-modelarts-cnnorth4.huaweicloud.com/console/lab?share-url-b64=aHR0cHM6Ly9ub3RlYm9va3NoYXJlLm9icy5jbi1ub3J0aC00Lm15aHVhd2VpY2xvdWQuY29tLzBjZmRiYjkyNGI4MGY1OGIxZjg1YzAwNTBjNmEzOGRhL25haXZlX2JheWVzLWV4ZXJjaXNlMi5pcHluYg%3D%3D"
  }
 },
 "nbformat": 4,
 "nbformat_minor": 4
}
