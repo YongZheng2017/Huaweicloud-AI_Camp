{
 "cells": [
  {
   "cell_type": "markdown",
   "metadata": {},
   "source": [
    "## **机器学习-KNN作业**"
   ]
  },
  {
   "cell_type": "markdown",
   "metadata": {},
   "source": [
    "本课程未完全覆盖 KNN 的全部操作，欢迎你将更全面的 KNN 学习笔记分享到[ AI Gallery Notebook](https://marketplace.huaweicloud.com/markets/aihub/notebook/list/) 版块获得[成长值](https://marketplace.huaweicloud.com/markets/aihub/article/detail/?content_id=9b8d7e7a-a150-449e-ac17-2dcf76d8b492)，分享方法请查看[此文档](https://marketplace.huaweicloud.com/markets/aihub/article/detail/?content_id=8afec58a-b797-4bf9-acca-76ed512a3acb)。"
   ]
  },
  {
   "cell_type": "markdown",
   "metadata": {},
   "source": [
    "### **题目描述**"
   ]
  },
  {
   "cell_type": "markdown",
   "metadata": {},
   "source": [
    "请你尝试修改 KNeighborsClassifier() 函数的 n_neighbors（选取几个邻居） 参数的不同取值，看看该参数的修改对模型会有怎样的影响\n",
    "\n",
    "提示：\n",
    "\n",
    "1. 你可以在cell中执行代码\"help(函数名)\"来查看函数的使用方法；\n",
    "2. <font color='red'>请在下文中搜索英文问号?，问号所在之处就是你需要修改代码的地方</font>；\n",
    "3. 修改好代码之后，跑通整个案例代码，即可完成作业，请将完成的作业分享到AI Gallery，<font color='red'>标题以“2021实战营”为开头命名</font>；"
   ]
  },
  {
   "cell_type": "markdown",
   "metadata": {},
   "source": [
    "### **代码实现**\n",
    "请在下面 cell 中编写代码，实现题目描述的要求。"
   ]
  },
  {
   "cell_type": "markdown",
   "metadata": {},
   "source": [
    "### 1、导入实验所需的sklearn包，导入numpy，进行矩阵计算"
   ]
  },
  {
   "cell_type": "code",
   "execution_count": 1,
   "metadata": {},
   "outputs": [],
   "source": [
    "# 从sklearn 导入KNeighborsClassifier方法\n",
    "from sklearn.neighbors import KNeighborsClassifier\n",
    "import numpy as np"
   ]
  },
  {
   "cell_type": "markdown",
   "metadata": {},
   "source": [
    "### 2、提供简单的数据结构进行后续的KNN算法验证"
   ]
  },
  {
   "cell_type": "code",
   "execution_count": 2,
   "metadata": {},
   "outputs": [],
   "source": [
    "X = np.array([[1, 1], [1, 1.5], [2, 2.5], [2.5, 3], [1.5, 1], [3, 2.5]])\n",
    "y = ['A', 'A', 'B', 'B', 'A', 'B']"
   ]
  },
  {
   "cell_type": "markdown",
   "metadata": {},
   "source": [
    "### 3、KNN算法的内容"
   ]
  },
  {
   "cell_type": "markdown",
   "metadata": {},
   "source": [
    "根据sklearn提供的包 创建knn算法对象\n",
    "\n",
    "n_neighbors=5           \n",
    "\n",
    "int 型参数    knn算法中指定以最近的几个最近邻样本具有投票权，默认参数为5\n",
    "\n",
    "algrithm='auto'           \n",
    "\n",
    "str参数       即内部采用什么算法实现。有以下几种选择参数：\n",
    "\n",
    "'ball_tree':球树、'kd_tree':kd树、'brute':暴力搜索、'auto':自动根据数据的类型和结构选择合适的算法。\n",
    "\n",
    "默认情况下是‘auto’。暴力搜索就不用说了大家都知道。具体前两种树型\n",
    "数据结构哪种好视情况而定。KD树是对依次对K维坐标轴，以中值切分构造\n",
    "的树,每一个节点是一个超矩形，在维数小于20时效率最高\n",
    "\n",
    "ball tree 是为了克服KD树高维失效而发明的，其构造过程是以质心\n",
    "C和半径r分割样本空间，每一个节点是一个超球体。一般低维数据用\n",
    "kd_tree速度快，用ball_tree相对较慢。超过20维之后的高维数据\n",
    "用kd_tree效果反而不佳，而ball_tree效果要好，具体构造过程及\n",
    "优劣势的理论大家有兴趣可以去具体学习。"
   ]
  },
  {
   "cell_type": "markdown",
   "metadata": {},
   "source": [
    "### 4、调用KNN算法"
   ]
  },
  {
   "cell_type": "code",
   "execution_count": 3,
   "metadata": {},
   "outputs": [],
   "source": [
    "model1 = KNeighborsClassifier(n_neighbors=1, algorithm='ball_tree')  # 请在此处修改 n_neighbors 的参数值\n",
    "model2 = KNeighborsClassifier(n_neighbors=2, algorithm='ball_tree')\n",
    "model3 = KNeighborsClassifier(n_neighbors=3, algorithm='ball_tree')\n",
    "model4 = KNeighborsClassifier(n_neighbors=4, algorithm='ball_tree')\n",
    "model5 = KNeighborsClassifier(n_neighbors=5, algorithm='ball_tree')"
   ]
  },
  {
   "cell_type": "markdown",
   "metadata": {},
   "source": [
    "### 5、训练数据"
   ]
  },
  {
   "cell_type": "code",
   "execution_count": 4,
   "metadata": {},
   "outputs": [
    {
     "data": {
      "text/plain": [
       "KNeighborsClassifier(algorithm='ball_tree', leaf_size=30, metric='minkowski',\n",
       "           metric_params=None, n_jobs=None, n_neighbors=5, p=2,\n",
       "           weights='uniform')"
      ]
     },
     "execution_count": 4,
     "metadata": {},
     "output_type": "execute_result"
    }
   ],
   "source": [
    "\"\"\"\n",
    "fit 就是训练模型\n",
    "fit()                     \n",
    "训练函数，它是最主要的函数。接收参数只有1个，就是训练数据集，\n",
    "每一行是一个样本，每一列是一个属性。它返回对象本身，即只是修\n",
    "改对象内部属性，因此直接调用就可以了，后面用该对象的预测函数\n",
    "取预测自然及用到了这个训练的结果。其实该函数并不是\n",
    "KNeighborsClassifier这个类的方法，\n",
    "而是它的父类SupervisedIntegerMixin继承下来的方法。\n",
    "\"\"\"\n",
    "model1.fit(X, y)\n",
    "model2.fit(X, y)\n",
    "model3.fit(X, y)\n",
    "model4.fit(X, y)\n",
    "model5.fit(X, y)"
   ]
  },
  {
   "cell_type": "markdown",
   "metadata": {},
   "source": [
    "### 6、预测结果，可以查看分类结果"
   ]
  },
  {
   "cell_type": "code",
   "execution_count": 5,
   "metadata": {},
   "outputs": [
    {
     "name": "stdout",
     "output_type": "stream",
     "text": [
      "['A']\n",
      "['A']\n",
      "['A']\n",
      "['A']\n",
      "['A']\n",
      "[[1. 0.]]\n",
      "[[0.5 0.5]]\n",
      "[[0.66666667 0.33333333]]\n",
      "[[0.75 0.25]]\n",
      "[[0.6 0.4]]\n",
      "1.0\n",
      "1.0\n",
      "1.0\n",
      "1.0\n",
      "1.0\n"
     ]
    }
   ],
   "source": [
    "# 预测\n",
    "print(model1.predict([[1.75, 1.75]]))  # 输出分类结果\n",
    "print(model2.predict([[1.75, 1.75]]))  # 输出分类结果\n",
    "print(model3.predict([[1.75, 1.75]]))  # 输出分类结果\n",
    "print(model4.predict([[1.75, 1.75]]))  # 输出分类结果\n",
    "print(model5.predict([[1.75, 1.75]]))  # 输出分类结果\n",
    "\n",
    "\n",
    "print(model1.predict_proba([[1.75, 1.75]]))  # 返回预测属于某标签的概率\n",
    "print(model2.predict_proba([[1.75, 1.75]]))  # 返回预测属于某标签的概率\n",
    "print(model3.predict_proba([[1.75, 1.75]]))  # 返回预测属于某标签的概率\n",
    "print(model4.predict_proba([[1.75, 1.75]]))  # 返回预测属于某标签的概率\n",
    "print(model5.predict_proba([[1.75, 1.75]]))  # 返回预测属于某标签的概率\n",
    "\n",
    "print(model1.score(X, y))  # 输出模型训练结果\n",
    "print(model2.score(X, y))  # 输出模型训练结果\n",
    "print(model3.score(X, y))  # 输出模型训练结果\n",
    "print(model4.score(X, y))  # 输出模型训练结果\n",
    "print(model5.score(X, y))  # 输出模型训练结果"
   ]
  },
  {
   "cell_type": "code",
   "execution_count": null,
   "metadata": {},
   "outputs": [],
   "source": []
  }
 ],
 "metadata": {
  "kernelspec": {
   "display_name": "XGBoost-Sklearn",
   "language": "python",
   "name": "xgboost-sklearn"
  },
  "language_info": {
   "codemirror_mode": {
    "name": "ipython",
    "version": 3
   },
   "file_extension": ".py",
   "mimetype": "text/x-python",
   "name": "python",
   "nbconvert_exporter": "python",
   "pygments_lexer": "ipython3",
   "version": "3.6.2"
  }
 },
 "nbformat": 4,
 "nbformat_minor": 4
}
