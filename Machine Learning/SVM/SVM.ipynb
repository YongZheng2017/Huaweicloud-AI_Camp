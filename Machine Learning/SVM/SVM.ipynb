{
 "cells": [
  {
   "cell_type": "markdown",
   "metadata": {},
   "source": [
    "# **SVM算法实现**"
   ]
  },
  {
   "cell_type": "markdown",
   "metadata": {},
   "source": [
    "## **实验目标**"
   ]
  },
  {
   "cell_type": "markdown",
   "metadata": {},
   "source": [
    "通过本案例的学习和课后作业的练习：\n",
    "\n",
    "1. 了解SVM算法的基本思想；\n",
    "2. 能够使用SKlearn实现SVM算法。\n",
    "\n",
    "你也可以将本案例相关的 ipynb 学习笔记分享到[ AI Gallery Notebook](https://marketplace.huaweicloud.com/markets/aihub/notebook/list/) 版块获得[成长值](https://marketplace.huaweicloud.com/markets/aihub/article/detail/?content_id=9b8d7e7a-a150-449e-ac17-2dcf76d8b492)，分享方法请查看[此文档](https://marketplace.huaweicloud.com/markets/aihub/article/detail/?content_id=8afec58a-b797-4bf9-acca-76ed512a3acb)。"
   ]
  },
  {
   "cell_type": "markdown",
   "metadata": {},
   "source": [
    "## **案例内容介绍**"
   ]
  },
  {
   "cell_type": "markdown",
   "metadata": {},
   "source": [
    "支持向量机（Support Vector Machine, SVM）是一类按监督学习方式对数据进行二元分类的广义线性分类器，其决策边界是对学习样本求解的最大边距超平面。\n",
    "\n",
    "**SVM算法的优缺点：**\n",
    "\n",
    "优点：\n",
    "\n",
    "1.使用核函数可以向高维空间进行映射\n",
    "\n",
    "2.使用核函数可以解决非线性的分类\n",
    "\n",
    "3.分类思想很简单，就是将样本与决策面的间隔最大化\n",
    "\n",
    "4.分类效果较好\n",
    "\n",
    "缺点：\n",
    "\n",
    "1.SVM算法对大规模训练样本难以实施\n",
    "\n",
    "2.用SVM解决多分类问题存在困难\n",
    "\n",
    "3.对缺失数据敏感，对参数和核函数的选择敏感\n",
    "\n",
    "本案例推荐的理论学习视频：\n",
    "\n",
    "- [《AI技术领域课程--机器学习》 SVM ](https://education.huaweicloud.com/courses/course-v1:HuaweiX+CBUCNXE086+Self-paced/courseware/7e9fb44d1008469d830d2be2ba41b090/0012bf7185534190bd6245f35ecdff0f/)  "
   ]
  },
  {
   "cell_type": "markdown",
   "metadata": {},
   "source": [
    "## **注意事项**"
   ]
  },
  {
   "cell_type": "markdown",
   "metadata": {},
   "source": [
    "1. 如果您是第一次使用 JupyterLab，请查看[《ModelArts JupyterLab使用指导》](https://marketplace.huaweicloud.com/markets/aihub/article/detail/?content_id=03676d0a-0630-4a3f-b62c-07fba43d2857)了解使用方法；\n",
    "\n",
    "2. 如果您在使用 JupyterLab 过程中碰到报错，请参考[《ModelArts JupyterLab常见问题解决办法》](https://marketplace.huaweicloud.com/markets/aihub/article/detail/?content_id=9ad8ce7d-06f7-4394-80ef-4dbf6cfb4be1)尝试解决问题。"
   ]
  },
  {
   "cell_type": "markdown",
   "metadata": {},
   "source": [
    "## **实验步骤**"
   ]
  },
  {
   "cell_type": "markdown",
   "metadata": {},
   "source": [
    "### 1、导入相关的方法"
   ]
  },
  {
   "cell_type": "code",
   "execution_count": 1,
   "metadata": {},
   "outputs": [
    {
     "name": "stderr",
     "output_type": "stream",
     "text": [
      "INFO:root:Using MoXing-v1.17.3-\n",
      "INFO:root:Using OBS-Python-SDK-3.20.7\n"
     ]
    }
   ],
   "source": [
    "import matplotlib.pyplot as plt\n",
    "import numpy as np\n",
    "import os\n",
    "import moxing as mox\n",
    "from sklearn import svm\n",
    "%matplotlib inline"
   ]
  },
  {
   "cell_type": "markdown",
   "metadata": {},
   "source": [
    "### 2、对文件进行逐行解析，从而得到第行的类标签和整个数据矩阵"
   ]
  },
  {
   "cell_type": "code",
   "execution_count": 2,
   "metadata": {},
   "outputs": [],
   "source": [
    "def loadDataSet(fileName):\n",
    "    \"\"\"\n",
    "    Args:\n",
    "        fileName 文件名\n",
    "    Returns:\n",
    "        dataMat  数据矩阵\n",
    "        labelMat 类标签\n",
    "    \"\"\"\n",
    "    dataMat = []\n",
    "    labelMat = []\n",
    "    fr = open(fileName)\n",
    "    for line in fr.readlines():\n",
    "        lineArr = line.strip().split('\\t')\n",
    "        dataMat.append([float(lineArr[0]), float(lineArr[1])])\n",
    "        labelMat.append(float(lineArr[2]))\n",
    "    return dataMat, labelMat\n",
    "\n",
    "\n",
    "if not os.path.exists('testSet.txt'):\n",
    "    mox.file.copy('obs://modelarts-labs-bj4-v2/course/hwc_edu/machine_learning/datasets/SVM/testSet.txt', 'testSet.txt')\n",
    "X, Y = loadDataSet('./testSet.txt')\n",
    "X = np.mat(X)"
   ]
  },
  {
   "cell_type": "markdown",
   "metadata": {},
   "source": [
    "### 3、可视化数据集"
   ]
  },
  {
   "cell_type": "code",
   "execution_count": 3,
   "metadata": {},
   "outputs": [
    {
     "name": "stdout",
     "output_type": "stream",
     "text": [
      "X= [[ 3.542485e+00  1.977398e+00]\n",
      " [ 3.018896e+00  2.556416e+00]\n",
      " [ 7.551510e+00 -1.580030e+00]\n",
      " [ 2.114999e+00 -4.466000e-03]\n",
      " [ 8.127113e+00  1.274372e+00]]\n",
      "Y= [-1.0, -1.0, 1.0, -1.0, 1.0]\n"
     ]
    }
   ],
   "source": [
    "print(\"X=\", X[:5])\n",
    "print(\"Y=\", Y[:5])"
   ]
  },
  {
   "cell_type": "markdown",
   "metadata": {},
   "source": [
    "拟合一个SVM模型\n",
    "\n",
    "C越大 惩罚越大，越容易过拟合\n",
    "grid search"
   ]
  },
  {
   "cell_type": "markdown",
   "metadata": {},
   "source": [
    "### 4、训练模型"
   ]
  },
  {
   "cell_type": "code",
   "execution_count": 4,
   "metadata": {},
   "outputs": [
    {
     "data": {
      "text/plain": [
       "SVC(C=5, cache_size=200, class_weight=None, coef0=0.0,\n",
       "  decision_function_shape='ovr', degree=3, gamma=10, kernel='linear',\n",
       "  max_iter=-1, probability=False, random_state=None, shrinking=True,\n",
       "  tol=0.001, verbose=False)"
      ]
     },
     "execution_count": 4,
     "metadata": {},
     "output_type": "execute_result"
    }
   ],
   "source": [
    "clf = svm.SVC(C=5, kernel='linear', gamma=10)\n",
    "clf.fit(X, Y)"
   ]
  },
  {
   "cell_type": "code",
   "execution_count": 5,
   "metadata": {},
   "outputs": [
    {
     "name": "stdout",
     "output_type": "stream",
     "text": [
      "yy= [-20.04314604 -19.31185381 -18.58056159 -17.84926936 -17.11797714\n",
      " -16.38668492 -15.65539269 -14.92410047 -14.19280824 -13.46151602\n",
      " -12.7302238  -11.99893157 -11.26763935 -10.53634713  -9.8050549\n",
      "  -9.07376268  -8.34247045  -7.61117823  -6.87988601  -6.14859378\n",
      "  -5.41730156  -4.68600933  -3.95471711  -3.22342489  -2.49213266\n",
      "  -1.76084044  -1.02954821  -0.29825599   0.43303623   1.16432846\n",
      "   1.89562068   2.6269129    3.35820513   4.08949735   4.82078958\n",
      "   5.5520818    6.28337402   7.01466625   7.74595847   8.4772507\n",
      "   9.20854292   9.93983514  10.67112737  11.40241959  12.13371182\n",
      "  12.86500404  13.59629626  14.32758849  15.05888071  15.79017294]\n"
     ]
    }
   ],
   "source": [
    "# 获取分割超平面\n",
    "w = clf.coef_[0]\n",
    "# 斜率\n",
    "a = -w[0] / w[1]\n",
    "# 从-2到10，顺序间隔采样50个样本，默认是num=50\n",
    "xx = np.linspace(-2, 10)  # , num=50)\n",
    "# 二维的直线方程\n",
    "yy = a * xx - (clf.intercept_[0]) / w[1]\n",
    "print(\"yy=\", yy)"
   ]
  },
  {
   "cell_type": "markdown",
   "metadata": {},
   "source": [
    "### 5、通过支持向量绘制分割超平面"
   ]
  },
  {
   "cell_type": "code",
   "execution_count": 6,
   "metadata": {},
   "outputs": [
    {
     "name": "stdout",
     "output_type": "stream",
     "text": [
      "support_vectors_= [[ 4.658191  3.507396]\n",
      " [ 3.457096 -0.082216]\n",
      " [ 6.080573  0.418886]]\n"
     ]
    }
   ],
   "source": [
    "print(\"support_vectors_=\", clf.support_vectors_)\n",
    "b = clf.support_vectors_[0]\n",
    "yy_down = a * xx + (b[1] - a * b[0])\n",
    "b = clf.support_vectors_[-1]\n",
    "yy_up = a * xx + (b[1] - a * b[0])"
   ]
  },
  {
   "cell_type": "markdown",
   "metadata": {},
   "source": [
    "### 6、画出直线，散点以及临界点的支持向量平面"
   ]
  },
  {
   "cell_type": "code",
   "execution_count": 7,
   "metadata": {},
   "outputs": [
    {
     "data": {
      "image/png": "[encoded data removed]",
      "text/plain": [
       "<matplotlib.figure.Figure at 0x7f813b178438>"
      ]
     },
     "metadata": {},
     "output_type": "display_data"
    }
   ],
   "source": [
    "plt.plot(xx, yy, 'k-')\n",
    "plt.plot(xx, yy_down, 'k--')\n",
    "plt.plot(xx, yy_up, 'k--')\n",
    "\n",
    "plt.scatter(clf.support_vectors_[:, 0], clf.support_vectors_[:, 1], s=80, facecolors='none')\n",
    "plt.scatter(X[:, 0].flat, X[:, 1].flat, c=Y, cmap=plt.cm.Paired)\n",
    "plt.axis('tight')\n",
    "plt.show()"
   ]
  },
  {
   "cell_type": "markdown",
   "metadata": {},
   "source": [
    "以上是 SVM 的实现方法，受限于篇幅原因，本案例未完全覆盖 SVM 的全部操作，欢迎你将更全面的 SVM 学习笔记分享到[ AI Gallery Notebook](https://marketplace.huaweicloud.com/markets/aihub/notebook/list/) 版块获得[成长值](https://marketplace.huaweicloud.com/markets/aihub/article/detail/?content_id=9b8d7e7a-a150-449e-ac17-2dcf76d8b492)，分享方法请查看[此文档](https://marketplace.huaweicloud.com/markets/aihub/article/detail/?content_id=8afec58a-b797-4bf9-acca-76ed512a3acb)。"
   ]
  },
  {
   "cell_type": "markdown",
   "metadata": {},
   "source": [
    "## **作业**\n",
    "\n",
    "请你利用本实验中学到的知识点，完成以下编程题："
   ]
  },
  {
   "cell_type": "markdown",
   "metadata": {},
   "source": [
    "1. [请你尝试修改 SVC() 函数的 C（惩罚系数） 参数的不同取值，看看该参数的修改对模型会有怎样的影响。](https://marketplace.huaweicloud.com/markets/aihub/notebook/detail/?id=062ad1fc-e08a-4419-81ab-2e059e2a4826)\n",
    "2. [请你尝试修改 SVC() 函数的 probability（是否采用概率估计） 参数的不同取值，看看该参数的修改对模型会有怎样的影响。](https://marketplace.huaweicloud.com/markets/aihub/notebook/detail/?id=63cae5e3-d164-4d96-86b9-20d1d46bce74)\n",
    "3. [使用手写数字数据集，基于Sklearn框架实现一个SVM手写数字分类模型。](https://marketplace.huaweicloud.com/markets/aihub/notebook/detail/?id=68914250-7096-463f-a475-8997e404b03d)"
   ]
  }
 ],
 "metadata": {
  "kernelspec": {
   "display_name": "XGBoost-Sklearn",
   "language": "python",
   "name": "xgboost-sklearn"
  },
  "language_info": {
   "codemirror_mode": {
    "name": "ipython",
    "version": 3
   },
   "file_extension": ".py",
   "mimetype": "text/x-python",
   "name": "python",
   "nbconvert_exporter": "python",
   "pygments_lexer": "ipython3",
   "version": "3.6.2"
  }
 },
 "nbformat": 4,
 "nbformat_minor": 4
}
