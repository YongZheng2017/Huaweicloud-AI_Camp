{
 "cells": [
  {
   "cell_type": "markdown",
   "metadata": {},
   "source": [
    "## **机器学习-SVM作业**"
   ]
  },
  {
   "cell_type": "markdown",
   "metadata": {},
   "source": [
    "本案例未完全覆盖 SVM 的全部操作，欢迎你将更全面的 SVM 学习笔记分享到[ AI Gallery Notebook](https://marketplace.huaweicloud.com/markets/aihub/notebook/list/) 版块获得[成长值](https://marketplace.huaweicloud.com/markets/aihub/article/detail/?content_id=9b8d7e7a-a150-449e-ac17-2dcf76d8b492)，分享方法请查看[此文档](https://marketplace.huaweicloud.com/markets/aihub/article/detail/?content_id=8afec58a-b797-4bf9-acca-76ed512a3acb)。"
   ]
  },
  {
   "cell_type": "markdown",
   "metadata": {},
   "source": [
    "### **题目描述**"
   ]
  },
  {
   "cell_type": "markdown",
   "metadata": {},
   "source": [
    "请你尝试修改 SVC() 函数的 C（惩罚系数） 参数的不同取值，看看该参数的修改对模型会有怎样的影响\n",
    "\n",
    "提示：\n",
    "\n",
    "1. 你可以在cell中执行代码\"help(函数名)\"来查看函数的使用方法；\n",
    "2. <font color='red'>请在下文中搜索英文问号?，问号所在之处就是你需要修改代码的地方</font>；\n",
    "3. 修改好代码之后，跑通整个案例代码，即可完成作业，请将完成的作业分享到AI Gallery，<font color='red'>标题以“2021实战营”为开头命名</font>；"
   ]
  },
  {
   "cell_type": "markdown",
   "metadata": {},
   "source": [
    "### **代码实现**\n",
    "请在下面 cell 中编写代码，实现题目描述的要求。"
   ]
  },
  {
   "cell_type": "markdown",
   "metadata": {},
   "source": [
    "### 1、导入相关的方法"
   ]
  },
  {
   "cell_type": "code",
   "execution_count": 1,
   "metadata": {},
   "outputs": [
    {
     "name": "stderr",
     "output_type": "stream",
     "text": [
      "INFO:root:Using MoXing-v1.17.3-\n",
      "INFO:root:Using OBS-Python-SDK-3.20.7\n"
     ]
    }
   ],
   "source": [
    "import matplotlib.pyplot as plt\n",
    "import numpy as np\n",
    "import os\n",
    "import moxing as mox\n",
    "from sklearn import svm\n",
    "%matplotlib inline"
   ]
  },
  {
   "cell_type": "markdown",
   "metadata": {},
   "source": [
    "### 2、对文件进行逐行解析，从而得到第行的类标签和整个数据矩阵"
   ]
  },
  {
   "cell_type": "code",
   "execution_count": 2,
   "metadata": {},
   "outputs": [],
   "source": [
    "def loadDataSet(fileName):\n",
    "    \"\"\"\n",
    "    Args:\n",
    "        fileName 文件名\n",
    "    Returns:\n",
    "        dataMat  数据矩阵\n",
    "        labelMat 类标签\n",
    "    \"\"\"\n",
    "    dataMat = []\n",
    "    labelMat = []\n",
    "    fr = open(fileName)\n",
    "    for line in fr.readlines():\n",
    "        lineArr = line.strip().split('\\t')\n",
    "        dataMat.append([float(lineArr[0]), float(lineArr[1])])\n",
    "        labelMat.append(float(lineArr[2]))\n",
    "    return dataMat, labelMat\n",
    "\n",
    "\n",
    "if not os.path.exists('testSet.txt'):\n",
    "    mox.file.copy('obs://modelarts-labs-bj4-v2/course/hwc_edu/machine_learning/datasets/SVM/testSet.txt', 'testSet.txt')\n",
    "X, Y = loadDataSet('./testSet.txt')\n",
    "X = np.mat(X)"
   ]
  },
  {
   "cell_type": "markdown",
   "metadata": {},
   "source": [
    "### 3、可视化数据集"
   ]
  },
  {
   "cell_type": "code",
   "execution_count": 3,
   "metadata": {},
   "outputs": [
    {
     "name": "stdout",
     "output_type": "stream",
     "text": [
      "X= [[ 3.542485e+00  1.977398e+00]\n",
      " [ 3.018896e+00  2.556416e+00]\n",
      " [ 7.551510e+00 -1.580030e+00]\n",
      " [ 2.114999e+00 -4.466000e-03]\n",
      " [ 8.127113e+00  1.274372e+00]]\n",
      "Y= [-1.0, -1.0, 1.0, -1.0, 1.0]\n"
     ]
    }
   ],
   "source": [
    "print(\"X=\", X[:5])\n",
    "print(\"Y=\", Y[:5])"
   ]
  },
  {
   "cell_type": "markdown",
   "metadata": {},
   "source": [
    "拟合一个SVM模型\n",
    "\n",
    "C越大 惩罚越大，越容易过拟合\n",
    "grid search"
   ]
  },
  {
   "cell_type": "markdown",
   "metadata": {},
   "source": [
    "### 4、训练模型"
   ]
  },
  {
   "cell_type": "code",
   "execution_count": 20,
   "metadata": {},
   "outputs": [
    {
     "data": {
      "text/plain": [
       "SVC(C=10, cache_size=200, class_weight=None, coef0=0.0,\n",
       "  decision_function_shape='ovr', degree=3, gamma=10, kernel='linear',\n",
       "  max_iter=-1, probability=False, random_state=None, shrinking=True,\n",
       "  tol=0.001, verbose=False)"
      ]
     },
     "execution_count": 20,
     "metadata": {},
     "output_type": "execute_result"
    }
   ],
   "source": [
    "clf1 = svm.SVC(C=0.0001, kernel='linear', gamma=10)  # 请在此处修改 C 的参数值\n",
    "clf2 = svm.SVC(C=1, kernel='linear', gamma=10)\n",
    "clf3 = svm.SVC(C=10, kernel='linear', gamma=10)\n",
    "\n",
    "clf1.fit(X, Y)\n",
    "clf2.fit(X, Y)\n",
    "clf3.fit(X, Y)"
   ]
  },
  {
   "cell_type": "code",
   "execution_count": 24,
   "metadata": {},
   "outputs": [
    {
     "name": "stdout",
     "output_type": "stream",
     "text": [
      "yy= [-956.96403887 -951.41125853 -945.85847819 -940.30569784 -934.7529175\n",
      " -929.20013715 -923.64735681 -918.09457647 -912.54179612 -906.98901578\n",
      " -901.43623543 -895.88345509 -890.33067475 -884.7778944  -879.22511406\n",
      " -873.67233371 -868.11955337 -862.56677303 -857.01399268 -851.46121234\n",
      " -845.90843199 -840.35565165 -834.80287131 -829.25009096 -823.69731062\n",
      " -818.14453028 -812.59174993 -807.03896959 -801.48618924 -795.9334089\n",
      " -790.38062856 -784.82784821 -779.27506787 -773.72228752 -768.16950718\n",
      " -762.61672684 -757.06394649 -751.51116615 -745.9583858  -740.40560546\n",
      " -734.85282512 -729.30004477 -723.74726443 -718.19448408 -712.64170374\n",
      " -707.0889234  -701.53614305 -695.98336271 -690.43058237 -684.87780202]\n"
     ]
    }
   ],
   "source": [
    "# 获取分割超平面\n",
    "w = clf1.coef_[0]\n",
    "# 斜率\n",
    "a = -w[0] / w[1]\n",
    "# 从-2到10，顺序间隔采样50个样本，默认是num=50\n",
    "xx = np.linspace(-2, 10)  # , num=50)\n",
    "# 二维的直线方程\n",
    "yy = a * xx - (clf1.intercept_[0]) / w[1]\n",
    "print(\"yy=\", yy)"
   ]
  },
  {
   "cell_type": "markdown",
   "metadata": {},
   "source": [
    "### 5、通过支持向量绘制分割超平面"
   ]
  },
  {
   "cell_type": "markdown",
   "metadata": {},
   "source": [
    "# C=0.0001时"
   ]
  },
  {
   "cell_type": "code",
   "execution_count": 25,
   "metadata": {},
   "outputs": [
    {
     "name": "stdout",
     "output_type": "stream",
     "text": [
      "support_vectors_= [[ 3.542485e+00  1.977398e+00]\n",
      " [ 3.018896e+00  2.556416e+00]\n",
      " [ 2.114999e+00 -4.466000e-03]\n",
      " [ 2.326297e+00  2.652130e-01]\n",
      " [ 3.634009e+00  1.730537e+00]\n",
      " [ 3.125951e+00  2.932510e-01]\n",
      " [ 2.123252e+00 -7.835630e-01]\n",
      " [ 1.696414e+00 -1.212496e+00]\n",
      " [ 4.658191e+00  3.507396e+00]\n",
      " [ 1.928486e+00 -3.218700e-01]\n",
      " [ 2.175808e+00 -1.452700e-02]\n",
      " [ 3.223038e+00 -5.523920e-01]\n",
      " [ 3.628502e+00  2.190585e+00]\n",
      " [ 2.301095e+00 -5.339880e-01]\n",
      " [ 3.457096e+00 -8.221600e-02]\n",
      " [ 3.023938e+00 -5.739200e-02]\n",
      " [ 2.450939e+00  7.449670e-01]\n",
      " [ 1.749721e+00 -9.619020e-01]\n",
      " [ 1.803111e+00 -1.763490e-01]\n",
      " [ 1.231257e+00 -5.685730e-01]\n",
      " [ 2.074915e+00  1.410550e+00]\n",
      " [ 3.536555e+00  3.964960e+00]\n",
      " [ 1.534187e+00 -6.224920e-01]\n",
      " [ 2.893743e+00 -1.643468e+00]\n",
      " [ 1.870457e+00 -1.040420e+00]\n",
      " [ 2.544314e+00  1.714165e+00]\n",
      " [ 2.369345e+00  1.375695e+00]\n",
      " [ 1.363782e+00 -2.540820e-01]\n",
      " [ 1.896005e+00  5.150800e-01]\n",
      " [ 2.529893e+00  6.626570e-01]\n",
      " [ 1.963874e+00 -3.652330e-01]\n",
      " [ 1.497407e+00 -5.529160e-01]\n",
      " [ 1.336267e+00 -1.632889e+00]\n",
      " [ 1.966279e+00 -1.840439e+00]\n",
      " [ 2.404234e+00  5.702780e-01]\n",
      " [ 2.037772e+00  2.191900e-02]\n",
      " [ 1.727631e+00 -4.531430e-01]\n",
      " [ 1.979395e+00 -5.077300e-02]\n",
      " [ 1.667645e+00  2.392040e-01]\n",
      " [ 1.339746e+00 -2.911830e-01]\n",
      " [ 3.107511e+00  7.583670e-01]\n",
      " [ 2.609525e+00  9.029790e-01]\n",
      " [ 3.263585e+00  1.367898e+00]\n",
      " [ 2.912122e+00 -2.023590e-01]\n",
      " [ 1.731786e+00  5.890960e-01]\n",
      " [ 2.387003e+00  1.573131e+00]\n",
      " [ 7.551510e+00 -1.580030e+00]\n",
      " [ 8.127113e+00  1.274372e+00]\n",
      " [ 7.108772e+00 -9.869060e-01]\n",
      " [ 8.610639e+00  2.046708e+00]\n",
      " [ 7.139979e+00 -2.329896e+00]\n",
      " [ 8.117032e+00  6.234930e-01]\n",
      " [ 8.497162e+00 -2.666490e-01]\n",
      " [ 8.197181e+00  1.545132e+00]\n",
      " [ 7.886608e+00  4.617550e-01]\n",
      " [ 7.407860e+00 -1.219610e-01]\n",
      " [ 7.286357e+00  2.510770e-01]\n",
      " [ 8.015003e+00  8.853250e-01]\n",
      " [ 8.991748e+00  9.231540e-01]\n",
      " [ 7.916831e+00 -1.781735e+00]\n",
      " [ 7.616862e+00 -2.179580e-01]\n",
      " [ 7.270337e+00 -2.507834e+00]\n",
      " [ 8.804461e+00  3.044301e+00]\n",
      " [ 8.410143e+00  2.560600e-02]\n",
      " [ 7.382988e+00 -4.787640e-01]\n",
      " [ 6.960661e+00 -2.453530e-01]\n",
      " [ 8.234460e+00  7.018680e-01]\n",
      " [ 8.168618e+00 -9.038350e-01]\n",
      " [ 9.229518e+00  2.066088e+00]\n",
      " [ 7.886242e+00  1.918130e-01]\n",
      " [ 5.286862e+00 -2.358286e+00]\n",
      " [ 6.080573e+00  4.188860e-01]\n",
      " [ 6.016004e+00 -3.753712e+00]\n",
      " [ 7.279460e+00 -1.895720e-01]\n",
      " [ 8.102154e+00 -6.038750e-01]\n",
      " [ 8.132048e+00  7.859140e-01]\n",
      " [ 8.245938e+00  3.723660e-01]\n",
      " [ 6.543888e+00  4.331640e-01]\n",
      " [ 8.112593e+00  2.958390e-01]\n",
      " [ 9.803425e+00  1.495167e+00]\n",
      " [ 9.205805e+00 -5.864800e-01]\n",
      " [ 8.398012e+00  1.584918e+00]\n",
      " [ 7.239953e+00 -1.764292e+00]\n",
      " [ 7.556201e+00  2.411850e-01]\n",
      " [ 9.015509e+00  3.450190e-01]\n",
      " [ 8.266085e+00 -2.309770e-01]\n",
      " [ 8.545620e+00  2.788799e+00]\n",
      " [ 9.295969e+00  1.346332e+00]\n",
      " [ 8.092288e+00 -1.372433e+00]\n",
      " [ 9.854303e+00  1.365116e+00]\n",
      " [ 7.921057e+00 -1.327587e+00]\n",
      " [ 8.500757e+00  1.492372e+00]]\n"
     ]
    }
   ],
   "source": [
    "print(\"support_vectors_=\", clf1.support_vectors_)\n",
    "b = clf1.support_vectors_[0]\n",
    "yy_down = a * xx + (b[1] - a * b[0])\n",
    "b = clf1.support_vectors_[-1]\n",
    "yy_up = a * xx + (b[1] - a * b[0])"
   ]
  },
  {
   "cell_type": "markdown",
   "metadata": {},
   "source": [
    "### 6、画出直线，散点以及临界点的支持向量平面"
   ]
  },
  {
   "cell_type": "code",
   "execution_count": 26,
   "metadata": {},
   "outputs": [
    {
     "data": {
      "image/png": "[encoded data removed]",
      "text/plain": [
       "<matplotlib.figure.Figure at 0x7ff55a96de48>"
      ]
     },
     "metadata": {},
     "output_type": "display_data"
    }
   ],
   "source": [
    "plt.plot(xx, yy, 'k-')\n",
    "plt.plot(xx, yy_down, 'k--')\n",
    "plt.plot(xx, yy_up, 'k--')\n",
    "\n",
    "plt.scatter(clf1.support_vectors_[:, 0], clf1.support_vectors_[:, 1], s=80, facecolors='none')\n",
    "plt.scatter(X[:, 0].flat, X[:, 1].flat, c=Y, cmap=plt.cm.Paired)\n",
    "plt.axis('tight')\n",
    "plt.show()"
   ]
  },
  {
   "cell_type": "markdown",
   "metadata": {},
   "source": [
    "# c=1时"
   ]
  },
  {
   "cell_type": "code",
   "execution_count": 27,
   "metadata": {},
   "outputs": [
    {
     "name": "stdout",
     "output_type": "stream",
     "text": [
      "yy= [-20.04314604 -19.31185381 -18.58056159 -17.84926936 -17.11797714\n",
      " -16.38668492 -15.65539269 -14.92410047 -14.19280824 -13.46151602\n",
      " -12.7302238  -11.99893157 -11.26763935 -10.53634713  -9.8050549\n",
      "  -9.07376268  -8.34247045  -7.61117823  -6.87988601  -6.14859378\n",
      "  -5.41730156  -4.68600933  -3.95471711  -3.22342489  -2.49213266\n",
      "  -1.76084044  -1.02954821  -0.29825599   0.43303623   1.16432846\n",
      "   1.89562068   2.6269129    3.35820513   4.08949735   4.82078958\n",
      "   5.5520818    6.28337402   7.01466625   7.74595847   8.4772507\n",
      "   9.20854292   9.93983514  10.67112737  11.40241959  12.13371182\n",
      "  12.86500404  13.59629626  14.32758849  15.05888071  15.79017294]\n"
     ]
    }
   ],
   "source": [
    "# 获取分割超平面\n",
    "w = clf2.coef_[0]\n",
    "# 斜率\n",
    "a = -w[0] / w[1]\n",
    "# 从-2到10，顺序间隔采样50个样本，默认是num=50\n",
    "xx = np.linspace(-2, 10)  # , num=50)\n",
    "# 二维的直线方程\n",
    "yy = a * xx - (clf2.intercept_[0]) / w[1]\n",
    "print(\"yy=\", yy)"
   ]
  },
  {
   "cell_type": "code",
   "execution_count": 28,
   "metadata": {},
   "outputs": [
    {
     "name": "stdout",
     "output_type": "stream",
     "text": [
      "support_vectors_= [[ 4.658191  3.507396]\n",
      " [ 3.457096 -0.082216]\n",
      " [ 6.080573  0.418886]]\n"
     ]
    }
   ],
   "source": [
    "print(\"support_vectors_=\", clf2.support_vectors_)\n",
    "b = clf2.support_vectors_[0]\n",
    "yy_down = a * xx + (b[1] - a * b[0])\n",
    "b = clf2.support_vectors_[-1]\n",
    "yy_up = a * xx + (b[1] - a * b[0])"
   ]
  },
  {
   "cell_type": "code",
   "execution_count": 29,
   "metadata": {},
   "outputs": [
    {
     "data": {
      "image/png": "[encoded data removed]",
      "text/plain": [
       "<matplotlib.figure.Figure at 0x7ff55f8ed208>"
      ]
     },
     "metadata": {},
     "output_type": "display_data"
    }
   ],
   "source": [
    "plt.plot(xx, yy, 'k-')\n",
    "plt.plot(xx, yy_down, 'k--')\n",
    "plt.plot(xx, yy_up, 'k--')\n",
    "\n",
    "plt.scatter(clf2.support_vectors_[:, 0], clf2.support_vectors_[:, 1], s=80, facecolors='none')\n",
    "plt.scatter(X[:, 0].flat, X[:, 1].flat, c=Y, cmap=plt.cm.Paired)\n",
    "plt.axis('tight')\n",
    "plt.show()"
   ]
  },
  {
   "cell_type": "markdown",
   "metadata": {},
   "source": [
    "# C=10时"
   ]
  },
  {
   "cell_type": "code",
   "execution_count": 30,
   "metadata": {},
   "outputs": [
    {
     "name": "stdout",
     "output_type": "stream",
     "text": [
      "yy= [-20.04314604 -19.31185381 -18.58056159 -17.84926936 -17.11797714\n",
      " -16.38668492 -15.65539269 -14.92410047 -14.19280824 -13.46151602\n",
      " -12.7302238  -11.99893157 -11.26763935 -10.53634713  -9.8050549\n",
      "  -9.07376268  -8.34247045  -7.61117823  -6.87988601  -6.14859378\n",
      "  -5.41730156  -4.68600933  -3.95471711  -3.22342489  -2.49213266\n",
      "  -1.76084044  -1.02954821  -0.29825599   0.43303623   1.16432846\n",
      "   1.89562068   2.6269129    3.35820513   4.08949735   4.82078958\n",
      "   5.5520818    6.28337402   7.01466625   7.74595847   8.4772507\n",
      "   9.20854292   9.93983514  10.67112737  11.40241959  12.13371182\n",
      "  12.86500404  13.59629626  14.32758849  15.05888071  15.79017294]\n"
     ]
    }
   ],
   "source": [
    "# 获取分割超平面\n",
    "w = clf3.coef_[0]\n",
    "# 斜率\n",
    "a = -w[0] / w[1]\n",
    "# 从-2到10，顺序间隔采样50个样本，默认是num=50\n",
    "xx = np.linspace(-2, 10)  # , num=50)\n",
    "# 二维的直线方程\n",
    "yy = a * xx - (clf3.intercept_[0]) / w[1]\n",
    "print(\"yy=\", yy)"
   ]
  },
  {
   "cell_type": "code",
   "execution_count": 31,
   "metadata": {},
   "outputs": [
    {
     "name": "stdout",
     "output_type": "stream",
     "text": [
      "support_vectors_= [[ 4.658191  3.507396]\n",
      " [ 3.457096 -0.082216]\n",
      " [ 6.080573  0.418886]]\n"
     ]
    }
   ],
   "source": [
    "print(\"support_vectors_=\", clf3.support_vectors_)\n",
    "b = clf3.support_vectors_[0]\n",
    "yy_down = a * xx + (b[1] - a * b[0])\n",
    "b = clf3.support_vectors_[-1]\n",
    "yy_up = a * xx + (b[1] - a * b[0])"
   ]
  },
  {
   "cell_type": "code",
   "execution_count": 32,
   "metadata": {},
   "outputs": [
    {
     "data": {
      "image/png": "[encoded data removed]",
      "text/plain": [
       "<matplotlib.figure.Figure at 0x7ff55d0394e0>"
      ]
     },
     "metadata": {},
     "output_type": "display_data"
    }
   ],
   "source": [
    "plt.plot(xx, yy, 'k-')\n",
    "plt.plot(xx, yy_down, 'k--')\n",
    "plt.plot(xx, yy_up, 'k--')\n",
    "\n",
    "plt.scatter(clf3.support_vectors_[:, 0], clf3.support_vectors_[:, 1], s=80, facecolors='none')\n",
    "plt.scatter(X[:, 0].flat, X[:, 1].flat, c=Y, cmap=plt.cm.Paired)\n",
    "plt.axis('tight')\n",
    "plt.show()"
   ]
  },
  {
   "cell_type": "code",
   "execution_count": null,
   "metadata": {},
   "outputs": [],
   "source": []
  }
 ],
 "metadata": {
  "kernelspec": {
   "display_name": "XGBoost-Sklearn",
   "language": "python",
   "name": "xgboost-sklearn"
  },
  "language_info": {
   "codemirror_mode": {
    "name": "ipython",
    "version": 3
   },
   "file_extension": ".py",
   "mimetype": "text/x-python",
   "name": "python",
   "nbconvert_exporter": "python",
   "pygments_lexer": "ipython3",
   "version": "3.6.2"
  }
 },
 "nbformat": 4,
 "nbformat_minor": 4
}
