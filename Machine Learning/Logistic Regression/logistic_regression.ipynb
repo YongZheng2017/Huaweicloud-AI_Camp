{
 "cells": [
  {
   "cell_type": "markdown",
   "metadata": {},
   "source": [
    "# **逻辑回归算法实现**"
   ]
  },
  {
   "cell_type": "markdown",
   "metadata": {},
   "source": [
    "## **实验目标**"
   ]
  },
  {
   "cell_type": "markdown",
   "metadata": {},
   "source": [
    "通过本案例的学习和课后作业的练习：\n",
    "\n",
    "1. 了解逻辑回归算法的基本原理；\n",
    "2. 掌握如何通过调用Sklearn框架实现逻辑回归。\n",
    "\n",
    "你也可以将本案例相关的 ipynb 学习笔记分享到[ AI Gallery Notebook](https://marketplace.huaweicloud.com/markets/aihub/notebook/list/) 版块获得[成长值](https://marketplace.huaweicloud.com/markets/aihub/article/detail/?content_id=9b8d7e7a-a150-449e-ac17-2dcf76d8b492)，分享方法请查看[此文档](https://marketplace.huaweicloud.com/markets/aihub/article/detail/?content_id=8afec58a-b797-4bf9-acca-76ed512a3acb)。"
   ]
  },
  {
   "cell_type": "markdown",
   "metadata": {},
   "source": [
    "## **案例内容介绍**"
   ]
  },
  {
   "cell_type": "markdown",
   "metadata": {},
   "source": [
    "logistic回归又称logistic回归分析，是一种广义的线性回归分析模型，常用于数据挖掘，疾病自动诊断，经济预测等领域。例如，探讨引发疾病的危险因素，并根据危险因素预测疾病发生的概率等。以胃癌病情分析为例，选择两组人群，一组是胃癌组，一组是非胃癌组，两组人群必定具有不同的体征与生活方式等。因此因变量就为是否胃癌，值为“是”或“否”，自变量就可以包括很多了，如年龄、性别、饮食习惯、幽门螺杆菌感染等。自变量既可以是连续的，也可以是分类的。然后通过logistic回归分析，可以得到自变量的权重，从而可以大致了解到底哪些因素是胃癌的危险因素。同时根据该权值可以根据危险因素预测一个人患癌症的可能性。\n",
    "\n",
    "本案例推荐的理论学习视频：\n",
    "\n",
    "- [《AI技术领域课程--机器学习》 逻辑回归 ](https://education.huaweicloud.com/courses/course-v1:HuaweiX+CBUCNXE086+Self-paced/courseware/5961d6a3d17e432cb516f37f4ff06941/cf683fa8cc5e497088b94af185ef8c12/)  "
   ]
  },
  {
   "cell_type": "markdown",
   "metadata": {},
   "source": [
    "## **注意事项**"
   ]
  },
  {
   "cell_type": "markdown",
   "metadata": {},
   "source": [
    "1. 如果您是第一次使用 JupyterLab，请查看[《ModelArts JupyterLab使用指导》](https://marketplace.huaweicloud.com/markets/aihub/article/detail/?content_id=03676d0a-0630-4a3f-b62c-07fba43d2857)了解使用方法；\n",
    "\n",
    "2. 如果您在使用 JupyterLab 过程中碰到报错，请参考[《ModelArts JupyterLab常见问题解决办法》](https://marketplace.huaweicloud.com/markets/aihub/article/detail/?content_id=9ad8ce7d-06f7-4394-80ef-4dbf6cfb4be1)尝试解决问题。"
   ]
  },
  {
   "cell_type": "markdown",
   "metadata": {},
   "source": [
    "## **实验步骤**"
   ]
  },
  {
   "cell_type": "markdown",
   "metadata": {},
   "source": [
    "### 1、导入相关数据模块"
   ]
  },
  {
   "cell_type": "markdown",
   "metadata": {},
   "source": [
    "逻辑回归的调用"
   ]
  },
  {
   "cell_type": "code",
   "execution_count": 7,
   "metadata": {},
   "outputs": [],
   "source": [
    "import numpy as np\n",
    "# 从sklearn导入LogisticRegression方法\n",
    "from sklearn.linear_model import LogisticRegression\n",
    "# 导入划分训练集和测试集的方法\n",
    "from sklearn.model_selection import train_test_split\n",
    "import moxing as mox\n",
    "import os"
   ]
  },
  {
   "cell_type": "markdown",
   "metadata": {},
   "source": [
    "### 2、读取数据"
   ]
  },
  {
   "cell_type": "code",
   "execution_count": 8,
   "metadata": {},
   "outputs": [
    {
     "name": "stdout",
     "output_type": "stream",
     "text": [
      "[[2.697e+03 6.254e+03 1.000e+00]\n",
      " [1.872e+03 2.014e+03 0.000e+00]\n",
      " [2.312e+03 8.120e+02 0.000e+00]\n",
      " [1.983e+03 4.990e+03 1.000e+00]\n",
      " [9.320e+02 3.920e+03 0.000e+00]\n",
      " [1.321e+03 5.583e+03 1.000e+00]\n",
      " [2.215e+03 1.560e+03 0.000e+00]\n",
      " [1.659e+03 2.932e+03 0.000e+00]\n",
      " [8.650e+02 7.316e+03 1.000e+00]\n",
      " [1.685e+03 4.763e+03 0.000e+00]\n",
      " [1.786e+03 2.523e+03 1.000e+00]]\n"
     ]
    }
   ],
   "source": [
    "if not os.path.exists('info.txt'):\n",
    "    mox.file.copy('obs://modelarts-labs-bj4-v2/course/hwc_edu/machine_learning/datasets/logistic_regression/info.txt', 'info.txt')\n",
    "data = np.loadtxt(\"./info.txt\",\n",
    "                  delimiter=\",\")  # 此处需要将数据上传至obs内，并将其放置在与项目同一个工作路径下。本地路径直接写文件名称即可，在ModelArts中前面需要增加”./work/”便于ModelArts检测数据位置。\n",
    "print(data)"
   ]
  },
  {
   "cell_type": "markdown",
   "metadata": {},
   "source": [
    "### 3、划分训练集及测试集"
   ]
  },
  {
   "cell_type": "code",
   "execution_count": 9,
   "metadata": {},
   "outputs": [],
   "source": [
    "# 划分训练集和测试集，测试集占数据集的30%，训练集占数据集的70%\n",
    "train_x, test_x, train_y, test_y = train_test_split(data[:, 0:2], data[:, 2], test_size=0.3)\n",
    "# train_test_split(x,y,test_size=0.3)     #参数test_size测试集占比; x:数据集; y:数据集的目标值"
   ]
  },
  {
   "cell_type": "markdown",
   "metadata": {},
   "source": [
    "### 4、调用sklearn里面的方法"
   ]
  },
  {
   "cell_type": "code",
   "execution_count": 10,
   "metadata": {},
   "outputs": [],
   "source": [
    "model = LogisticRegression()"
   ]
  },
  {
   "cell_type": "markdown",
   "metadata": {},
   "source": [
    "### 5、通过训练集得到训练后的模型"
   ]
  },
  {
   "cell_type": "code",
   "execution_count": 11,
   "metadata": {},
   "outputs": [
    {
     "name": "stderr",
     "output_type": "stream",
     "text": [
      "/home/ma-user/anaconda3/envs/XGBoost-Sklearn/lib/python3.6/site-packages/sklearn/linear_model/logistic.py:432: FutureWarning: Default solver will be changed to 'lbfgs' in 0.22. Specify a solver to silence this warning.\n",
      "  FutureWarning)\n"
     ]
    },
    {
     "data": {
      "text/plain": [
       "LogisticRegression(C=1.0, class_weight=None, dual=False, fit_intercept=True,\n",
       "          intercept_scaling=1, max_iter=100, multi_class='warn',\n",
       "          n_jobs=None, penalty='l2', random_state=None, solver='warn',\n",
       "          tol=0.0001, verbose=0, warm_start=False)"
      ]
     },
     "execution_count": 11,
     "metadata": {},
     "output_type": "execute_result"
    }
   ],
   "source": [
    "model.fit(train_x, train_y)"
   ]
  },
  {
   "cell_type": "markdown",
   "metadata": {},
   "source": [
    "### 6、利用测试数据集测试模型，并输出结果"
   ]
  },
  {
   "cell_type": "code",
   "execution_count": 12,
   "metadata": {},
   "outputs": [
    {
     "name": "stdout",
     "output_type": "stream",
     "text": [
      "[False False  True False]\n",
      "0.25\n"
     ]
    }
   ],
   "source": [
    "# 测试模型\n",
    "pred_y = model.predict(test_x)\n",
    "# 输出判断预测是否与真实值相等\n",
    "print(pred_y == test_y)\n",
    "print(model.score(test_x, test_y))"
   ]
  },
  {
   "cell_type": "markdown",
   "metadata": {},
   "source": [
    "以上是 逻辑回归 的实现方法，受限于篇幅原因，本案例未完全覆盖 逻辑回归 的全部操作，欢迎你将更全面的 逻辑回归 学习笔记分享到[ AI Gallery Notebook](https://marketplace.huaweicloud.com/markets/aihub/notebook/list/) 版块获得[成长值](https://marketplace.huaweicloud.com/markets/aihub/article/detail/?content_id=9b8d7e7a-a150-449e-ac17-2dcf76d8b492)，分享方法请查看[此文档](https://marketplace.huaweicloud.com/markets/aihub/article/detail/?content_id=8afec58a-b797-4bf9-acca-76ed512a3acb)。"
   ]
  },
  {
   "cell_type": "markdown",
   "metadata": {},
   "source": [
    "## **作业**\n",
    "\n",
    "请你利用本实验中学到的知识点，完成以下编程题："
   ]
  },
  {
   "cell_type": "markdown",
   "metadata": {},
   "source": [
    "1. [请你尝试修改 LogisticRegression() 函数的 penalty（正则化选择）参数的不同取值，看看该参数的修改对模型会有怎样的影响。](https://marketplace.huaweicloud.com/markets/aihub/notebook/detail/?id=9de6965a-1e50-4e95-bcdd-bb59057cef11)\n",
    "2. [请你尝试修改 LogisticRegression() 函数的 solver（优化算法选择）参数的不同取值，看看该参数的修改对模型会有怎样的影响。](https://marketplace.huaweicloud.com/markets/aihub/notebook/detail/?id=c1267237-10cd-44b9-a315-b692510ecabb)\n",
    "3. [根据乳腺癌数据集，基于Sklearn实现一个逻辑回归模型预测病人是否得了癌症。](https://marketplace.huaweicloud.com/markets/aihub/notebook/detail/?id=d3e592ad-99fd-43ee-8f14-5279a9f50243)"
   ]
  }
 ],
 "metadata": {
  "kernelspec": {
   "display_name": "XGBoost-Sklearn",
   "language": "python",
   "name": "xgboost-sklearn"
  },
  "language_info": {
   "codemirror_mode": {
    "name": "ipython",
    "version": 3
   },
   "file_extension": ".py",
   "mimetype": "text/x-python",
   "name": "python",
   "nbconvert_exporter": "python",
   "pygments_lexer": "ipython3",
   "version": "3.6.2"
  }
 },
 "nbformat": 4,
 "nbformat_minor": 4
}
