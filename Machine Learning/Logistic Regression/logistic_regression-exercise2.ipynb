{
 "cells": [
  {
   "cell_type": "markdown",
   "metadata": {},
   "source": [
    "## **机器学习-逻辑回归作业**"
   ]
  },
  {
   "cell_type": "markdown",
   "metadata": {},
   "source": [
    "本课程未完全覆盖 逻辑回归 的全部操作，欢迎你将更全面的 逻辑回归 学习笔记分享到[ AI Gallery Notebook](https://marketplace.huaweicloud.com/markets/aihub/notebook/list/) 版块获得[成长值](https://marketplace.huaweicloud.com/markets/aihub/article/detail/?content_id=9b8d7e7a-a150-449e-ac17-2dcf76d8b492)，分享方法请查看[此文档](https://marketplace.huaweicloud.com/markets/aihub/article/detail/?content_id=8afec58a-b797-4bf9-acca-76ed512a3acb)。"
   ]
  },
  {
   "cell_type": "markdown",
   "metadata": {},
   "source": [
    "### **题目描述**"
   ]
  },
  {
   "cell_type": "markdown",
   "metadata": {},
   "source": [
    "请你尝试修改 LogisticRegression() 函数的 solver（优化算法选择）参数的不同取值，看看该参数的修改对模型会有怎样的影响\n",
    "\n",
    "提示：\n",
    "\n",
    "1. 你可以在cell中执行代码\"help(函数名)\"来查看函数的使用方法；\n",
    "2. <font color='red'>请在下文中搜索英文问号?，问号所在之处就是你需要修改代码的地方</font>；\n",
    "3. 修改好代码之后，跑通整个案例代码，即可完成作业，请将完成的作业分享到AI Gallery，<font color='red'>标题以“2021实战营”为开头命名</font>；"
   ]
  },
  {
   "cell_type": "markdown",
   "metadata": {},
   "source": [
    "### **代码实现**\n",
    "请在下面 cell 中编写代码，实现题目描述的要求。"
   ]
  },
  {
   "cell_type": "markdown",
   "metadata": {},
   "source": [
    "### 1、导入相关数据模块"
   ]
  },
  {
   "cell_type": "markdown",
   "metadata": {},
   "source": [
    "逻辑回归的调用"
   ]
  },
  {
   "cell_type": "code",
   "execution_count": 1,
   "metadata": {},
   "outputs": [
    {
     "name": "stderr",
     "output_type": "stream",
     "text": [
      "INFO:root:Using MoXing-v1.17.3-\n",
      "INFO:root:Using OBS-Python-SDK-3.20.7\n"
     ]
    }
   ],
   "source": [
    "import numpy as np\n",
    "# 从sklearn导入LogisticRegression方法\n",
    "from sklearn.linear_model import LogisticRegression\n",
    "# 导入划分训练集和测试集的方法\n",
    "from sklearn.model_selection import train_test_split\n",
    "import moxing as mox\n",
    "import os"
   ]
  },
  {
   "cell_type": "markdown",
   "metadata": {},
   "source": [
    "### 2、读取数据"
   ]
  },
  {
   "cell_type": "code",
   "execution_count": 2,
   "metadata": {},
   "outputs": [
    {
     "name": "stdout",
     "output_type": "stream",
     "text": [
      "[[2.697e+03 6.254e+03 1.000e+00]\n",
      " [1.872e+03 2.014e+03 0.000e+00]\n",
      " [2.312e+03 8.120e+02 0.000e+00]\n",
      " [1.983e+03 4.990e+03 1.000e+00]\n",
      " [9.320e+02 3.920e+03 0.000e+00]\n",
      " [1.321e+03 5.583e+03 1.000e+00]\n",
      " [2.215e+03 1.560e+03 0.000e+00]\n",
      " [1.659e+03 2.932e+03 0.000e+00]\n",
      " [8.650e+02 7.316e+03 1.000e+00]\n",
      " [1.685e+03 4.763e+03 0.000e+00]\n",
      " [1.786e+03 2.523e+03 1.000e+00]]\n"
     ]
    }
   ],
   "source": [
    "if not os.path.exists('info.txt'):\n",
    "    mox.file.copy('obs://modelarts-labs-bj4-v2/course/hwc_edu/machine_learning/datasets/logistic_regression/info.txt', 'info.txt')\n",
    "data = np.loadtxt(\"./info.txt\",\n",
    "                  delimiter=\",\")  # 此处需要将数据上传至obs内，并将其放置在与项目同一个工作路径下。本地路径直接写文件名称即可，在ModelArts中前面需要增加”./work/”便于ModelArts检测数据位置。\n",
    "print(data)"
   ]
  },
  {
   "cell_type": "markdown",
   "metadata": {},
   "source": [
    "### 3、划分训练集及测试集"
   ]
  },
  {
   "cell_type": "code",
   "execution_count": 3,
   "metadata": {},
   "outputs": [],
   "source": [
    "# 划分训练集和测试集，测试集占数据集的30%，训练集占数据集的70%\n",
    "train_x, test_x, train_y, test_y = train_test_split(data[:, 0:2], data[:, 2], test_size=0.3)\n",
    "# train_test_split(x,y,test_size=0.3)     #参数test_size测试集占比; x:数据集; y:数据集的目标值"
   ]
  },
  {
   "cell_type": "markdown",
   "metadata": {},
   "source": [
    "### 4、调用sklearn里面的方法"
   ]
  },
  {
   "cell_type": "code",
   "execution_count": 4,
   "metadata": {},
   "outputs": [],
   "source": [
    "model_newton_cg = LogisticRegression(solver='newton-cg') # 请在此处修改 solver 的参数值\n",
    "model_lbfgs = LogisticRegression(solver='lbfgs') \n",
    "model_liblinear = LogisticRegression(solver='liblinear') \n",
    "model_sag = LogisticRegression(solver='sag') \n",
    "model_saga = LogisticRegression(solver='saga')  "
   ]
  },
  {
   "cell_type": "markdown",
   "metadata": {},
   "source": [
    "### 5、通过训练集得到训练后的模型"
   ]
  },
  {
   "cell_type": "code",
   "execution_count": 5,
   "metadata": {},
   "outputs": [
    {
     "name": "stderr",
     "output_type": "stream",
     "text": [
      "/home/ma-user/anaconda3/envs/XGBoost-Sklearn/lib/python3.6/site-packages/sklearn/linear_model/sag.py:334: ConvergenceWarning: The max_iter was reached which means the coef_ did not converge\n",
      "  \"the coef_ did not converge\", ConvergenceWarning)\n",
      "/home/ma-user/anaconda3/envs/XGBoost-Sklearn/lib/python3.6/site-packages/sklearn/linear_model/sag.py:334: ConvergenceWarning: The max_iter was reached which means the coef_ did not converge\n",
      "  \"the coef_ did not converge\", ConvergenceWarning)\n"
     ]
    },
    {
     "data": {
      "text/plain": [
       "LogisticRegression(C=1.0, class_weight=None, dual=False, fit_intercept=True,\n",
       "          intercept_scaling=1, max_iter=100, multi_class='warn',\n",
       "          n_jobs=None, penalty='l2', random_state=None, solver='saga',\n",
       "          tol=0.0001, verbose=0, warm_start=False)"
      ]
     },
     "execution_count": 5,
     "metadata": {},
     "output_type": "execute_result"
    }
   ],
   "source": [
    "model_newton_cg.fit(train_x, train_y)\n",
    "model_lbfgs.fit(train_x, train_y)\n",
    "model_liblinear.fit(train_x, train_y)\n",
    "model_sag.fit(train_x, train_y)\n",
    "model_saga.fit(train_x, train_y)"
   ]
  },
  {
   "cell_type": "markdown",
   "metadata": {},
   "source": [
    "### 6、利用测试数据集测试模型，并输出结果"
   ]
  },
  {
   "cell_type": "code",
   "execution_count": 6,
   "metadata": {},
   "outputs": [
    {
     "name": "stdout",
     "output_type": "stream",
     "text": [
      "[False  True  True  True]\n",
      "[False  True  True  True]\n",
      "[False False  True  True]\n",
      "[False False  True  True]\n",
      "[False False  True  True]\n",
      "0.75\n",
      "0.75\n",
      "0.5\n",
      "0.5\n",
      "0.5\n"
     ]
    }
   ],
   "source": [
    "# 测试模型\n",
    "pred_y_newton_cg = model_newton_cg.predict(test_x)\n",
    "pred_y_lbfgs = model_lbfgs.predict(test_x)\n",
    "pred_y_liblinear = model_liblinear.predict(test_x)\n",
    "pred_y_sag = model_sag.predict(test_x)\n",
    "pred_y_saga = model_saga.predict(test_x)\n",
    "\n",
    "# 输出判断预测是否与真实值相等\n",
    "print(pred_y_newton_cg == test_y)\n",
    "print(pred_y_lbfgs == test_y)\n",
    "print(pred_y_liblinear == test_y)\n",
    "print(pred_y_sag == test_y)\n",
    "print(pred_y_saga == test_y)\n",
    "\n",
    "print(model_newton_cg.score(test_x, test_y))\n",
    "print(model_lbfgs.score(test_x, test_y))\n",
    "print(model_liblinear.score(test_x, test_y))\n",
    "print(model_sag.score(test_x, test_y))\n",
    "print(model_saga.score(test_x, test_y))"
   ]
  },
  {
   "cell_type": "code",
   "execution_count": null,
   "metadata": {},
   "outputs": [],
   "source": []
  }
 ],
 "metadata": {
  "kernelspec": {
   "display_name": "XGBoost-Sklearn",
   "language": "python",
   "name": "xgboost-sklearn"
  },
  "language_info": {
   "codemirror_mode": {
    "name": "ipython",
    "version": 3
   },
   "file_extension": ".py",
   "mimetype": "text/x-python",
   "name": "python",
   "nbconvert_exporter": "python",
   "pygments_lexer": "ipython3",
   "version": "3.6.2"
  }
 },
 "nbformat": 4,
 "nbformat_minor": 4
}
