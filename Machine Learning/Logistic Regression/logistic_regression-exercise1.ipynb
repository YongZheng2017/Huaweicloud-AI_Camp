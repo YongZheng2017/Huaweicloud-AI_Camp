{
 "cells": [
  {
   "cell_type": "markdown",
   "metadata": {},
   "source": [
    "## **机器学习-逻辑回归作业**"
   ]
  },
  {
   "cell_type": "markdown",
   "metadata": {},
   "source": [
    "本课程未完全覆盖 逻辑回归 的全部操作，欢迎你将更全面的 逻辑回归 学习笔记分享到[ AI Gallery Notebook](https://marketplace.huaweicloud.com/markets/aihub/notebook/list/) 版块获得[成长值](https://marketplace.huaweicloud.com/markets/aihub/article/detail/?content_id=9b8d7e7a-a150-449e-ac17-2dcf76d8b492)，分享方法请查看[此文档](https://marketplace.huaweicloud.com/markets/aihub/article/detail/?content_id=8afec58a-b797-4bf9-acca-76ed512a3acb)。"
   ]
  },
  {
   "cell_type": "markdown",
   "metadata": {},
   "source": [
    "### **题目描述**"
   ]
  },
  {
   "cell_type": "markdown",
   "metadata": {},
   "source": [
    "请你尝试修改 LogisticRegression() 函数的 penalty（正则化选择）参数的不同取值，看看该参数的修改对模型会有怎样的影响\n",
    "\n",
    "提示：\n",
    "\n",
    "1. 你可以在cell中执行代码\"help(函数名)\"来查看函数的使用方法；\n",
    "2. <font color='red'>请在下文中搜索英文问号?，问号所在之处就是你需要修改代码的地方</font>；\n",
    "3. 修改好代码之后，跑通整个案例代码，即可完成作业，请将完成的作业分享到AI Gallery，<font color='red'>标题以“2021实战营”为开头命名</font>；"
   ]
  },
  {
   "cell_type": "markdown",
   "metadata": {},
   "source": [
    "### **代码实现**\n",
    "请在下面 cell 中编写代码，实现题目描述的要求。"
   ]
  },
  {
   "cell_type": "markdown",
   "metadata": {},
   "source": [
    "### 1、导入相关数据模块"
   ]
  },
  {
   "cell_type": "markdown",
   "metadata": {},
   "source": [
    "逻辑回归的调用"
   ]
  },
  {
   "cell_type": "code",
   "execution_count": 13,
   "metadata": {},
   "outputs": [],
   "source": [
    "import numpy as np\n",
    "# 从sklearn导入LogisticRegression方法\n",
    "from sklearn.linear_model import LogisticRegression\n",
    "# 导入划分训练集和测试集的方法\n",
    "from sklearn.model_selection import train_test_split\n",
    "import moxing as mox\n",
    "import os"
   ]
  },
  {
   "cell_type": "markdown",
   "metadata": {},
   "source": [
    "### 2、读取数据"
   ]
  },
  {
   "cell_type": "code",
   "execution_count": 14,
   "metadata": {},
   "outputs": [
    {
     "name": "stdout",
     "output_type": "stream",
     "text": [
      "[[2.697e+03 6.254e+03 1.000e+00]\n",
      " [1.872e+03 2.014e+03 0.000e+00]\n",
      " [2.312e+03 8.120e+02 0.000e+00]\n",
      " [1.983e+03 4.990e+03 1.000e+00]\n",
      " [9.320e+02 3.920e+03 0.000e+00]\n",
      " [1.321e+03 5.583e+03 1.000e+00]\n",
      " [2.215e+03 1.560e+03 0.000e+00]\n",
      " [1.659e+03 2.932e+03 0.000e+00]\n",
      " [8.650e+02 7.316e+03 1.000e+00]\n",
      " [1.685e+03 4.763e+03 0.000e+00]\n",
      " [1.786e+03 2.523e+03 1.000e+00]]\n"
     ]
    }
   ],
   "source": [
    "if not os.path.exists('info.txt'):\n",
    "    mox.file.copy('obs://modelarts-labs-bj4-v2/course/hwc_edu/machine_learning/datasets/logistic_regression/info.txt', 'info.txt')\n",
    "data = np.loadtxt(\"./info.txt\",\n",
    "                  delimiter=\",\")  # 此处需要将数据上传至obs内，并将其放置在与项目同一个工作路径下。本地路径直接写文件名称即可，在ModelArts中前面需要增加”./work/”便于ModelArts检测数据位置。\n",
    "print(data)"
   ]
  },
  {
   "cell_type": "markdown",
   "metadata": {},
   "source": [
    "### 3、划分训练集及测试集"
   ]
  },
  {
   "cell_type": "code",
   "execution_count": 15,
   "metadata": {},
   "outputs": [],
   "source": [
    "# 划分训练集和测试集，测试集占数据集的30%，训练集占数据集的70%\n",
    "train_x, test_x, train_y, test_y = train_test_split(data[:, 0:2], data[:, 2], test_size=0.3)\n",
    "# train_test_split(x,y,test_size=0.3)     #参数test_size测试集占比; x:数据集; y:数据集的目标值"
   ]
  },
  {
   "cell_type": "markdown",
   "metadata": {},
   "source": [
    "### 4、调用sklearn里面的方法"
   ]
  },
  {
   "cell_type": "code",
   "execution_count": 16,
   "metadata": {},
   "outputs": [],
   "source": [
    "model1 = LogisticRegression(penalty='l1')  # 请在此处修改 penalty 的参数值\n",
    "model2 = LogisticRegression(penalty='l2')"
   ]
  },
  {
   "cell_type": "markdown",
   "metadata": {},
   "source": [
    "### 5、通过训练集得到训练后的模型"
   ]
  },
  {
   "cell_type": "code",
   "execution_count": 17,
   "metadata": {},
   "outputs": [
    {
     "name": "stderr",
     "output_type": "stream",
     "text": [
      "/home/ma-user/anaconda3/envs/XGBoost-Sklearn/lib/python3.6/site-packages/sklearn/linear_model/logistic.py:432: FutureWarning: Default solver will be changed to 'lbfgs' in 0.22. Specify a solver to silence this warning.\n",
      "  FutureWarning)\n",
      "/home/ma-user/anaconda3/envs/XGBoost-Sklearn/lib/python3.6/site-packages/sklearn/linear_model/logistic.py:432: FutureWarning: Default solver will be changed to 'lbfgs' in 0.22. Specify a solver to silence this warning.\n",
      "  FutureWarning)\n"
     ]
    },
    {
     "data": {
      "text/plain": [
       "LogisticRegression(C=1.0, class_weight=None, dual=False, fit_intercept=True,\n",
       "          intercept_scaling=1, max_iter=100, multi_class='warn',\n",
       "          n_jobs=None, penalty='l2', random_state=None, solver='warn',\n",
       "          tol=0.0001, verbose=0, warm_start=False)"
      ]
     },
     "execution_count": 17,
     "metadata": {},
     "output_type": "execute_result"
    }
   ],
   "source": [
    "model1.fit(train_x, train_y)\n",
    "model2.fit(train_x, train_y)"
   ]
  },
  {
   "cell_type": "markdown",
   "metadata": {},
   "source": [
    "### 6、利用测试数据集测试模型，并输出结果"
   ]
  },
  {
   "cell_type": "code",
   "execution_count": 18,
   "metadata": {},
   "outputs": [
    {
     "name": "stdout",
     "output_type": "stream",
     "text": [
      "[ True  True  True False]\n",
      "[ True  True  True False]\n",
      "0.75\n",
      "0.75\n"
     ]
    }
   ],
   "source": [
    "# 测试模型\n",
    "pred_y1 = model1.predict(test_x)\n",
    "pred_y2 = model2.predict(test_x)\n",
    "# 输出判断预测是否与真实值相等\n",
    "print(pred_y1 == test_y)\n",
    "print(pred_y2 == test_y)\n",
    "print(model1.score(test_x, test_y))\n",
    "print(model2.score(test_x, test_y))"
   ]
  },
  {
   "cell_type": "code",
   "execution_count": null,
   "metadata": {},
   "outputs": [],
   "source": []
  }
 ],
 "metadata": {
  "kernelspec": {
   "display_name": "XGBoost-Sklearn",
   "language": "python",
   "name": "xgboost-sklearn"
  },
  "language_info": {
   "codemirror_mode": {
    "name": "ipython",
    "version": 3
   },
   "file_extension": ".py",
   "mimetype": "text/x-python",
   "name": "python",
   "nbconvert_exporter": "python",
   "pygments_lexer": "ipython3",
   "version": "3.6.2"
  }
 },
 "nbformat": 4,
 "nbformat_minor": 4
}
